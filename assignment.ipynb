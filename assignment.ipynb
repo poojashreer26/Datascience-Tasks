{
 "cells": [
  {
   "cell_type": "code",
   "execution_count": 3,
   "metadata": {},
   "outputs": [],
   "source": [
    "import pandas as pd"
   ]
  },
  {
   "cell_type": "code",
   "execution_count": 4,
   "metadata": {},
   "outputs": [
    {
     "data": {
      "text/html": [
       "<div>\n",
       "<style scoped>\n",
       "    .dataframe tbody tr th:only-of-type {\n",
       "        vertical-align: middle;\n",
       "    }\n",
       "\n",
       "    .dataframe tbody tr th {\n",
       "        vertical-align: top;\n",
       "    }\n",
       "\n",
       "    .dataframe thead th {\n",
       "        text-align: right;\n",
       "    }\n",
       "</style>\n",
       "<table border=\"1\" class=\"dataframe\">\n",
       "  <thead>\n",
       "    <tr style=\"text-align: right;\">\n",
       "      <th></th>\n",
       "      <th>Row ID</th>\n",
       "      <th>Order ID</th>\n",
       "      <th>Order Date</th>\n",
       "      <th>Ship Date</th>\n",
       "      <th>Ship Mode</th>\n",
       "      <th>Customer ID</th>\n",
       "      <th>Customer Name</th>\n",
       "      <th>Segment</th>\n",
       "      <th>Country</th>\n",
       "      <th>City</th>\n",
       "      <th>...</th>\n",
       "      <th>Postal Code</th>\n",
       "      <th>Region</th>\n",
       "      <th>Product ID</th>\n",
       "      <th>Category</th>\n",
       "      <th>Sub-Category</th>\n",
       "      <th>Product Name</th>\n",
       "      <th>Sales</th>\n",
       "      <th>Quantity</th>\n",
       "      <th>Discount</th>\n",
       "      <th>Profit</th>\n",
       "    </tr>\n",
       "  </thead>\n",
       "  <tbody>\n",
       "    <tr>\n",
       "      <th>0</th>\n",
       "      <td>1</td>\n",
       "      <td>CA-2016-152156</td>\n",
       "      <td>2016-11-08</td>\n",
       "      <td>2016-11-11</td>\n",
       "      <td>Second Class</td>\n",
       "      <td>CG-12520</td>\n",
       "      <td>Claire Gute</td>\n",
       "      <td>Consumer</td>\n",
       "      <td>United States</td>\n",
       "      <td>Henderson</td>\n",
       "      <td>...</td>\n",
       "      <td>42420</td>\n",
       "      <td>South</td>\n",
       "      <td>FUR-BO-10001798</td>\n",
       "      <td>Furniture</td>\n",
       "      <td>Bookcases</td>\n",
       "      <td>Bush Somerset Collection Bookcase</td>\n",
       "      <td>261.9600</td>\n",
       "      <td>2</td>\n",
       "      <td>0.00</td>\n",
       "      <td>41.9136</td>\n",
       "    </tr>\n",
       "    <tr>\n",
       "      <th>1</th>\n",
       "      <td>2</td>\n",
       "      <td>CA-2016-152156</td>\n",
       "      <td>2016-11-08</td>\n",
       "      <td>2016-11-11</td>\n",
       "      <td>Second Class</td>\n",
       "      <td>CG-12520</td>\n",
       "      <td>Claire Gute</td>\n",
       "      <td>Consumer</td>\n",
       "      <td>United States</td>\n",
       "      <td>Henderson</td>\n",
       "      <td>...</td>\n",
       "      <td>42420</td>\n",
       "      <td>South</td>\n",
       "      <td>FUR-CH-10000454</td>\n",
       "      <td>Furniture</td>\n",
       "      <td>Chairs</td>\n",
       "      <td>Hon Deluxe Fabric Upholstered Stacking Chairs,...</td>\n",
       "      <td>731.9400</td>\n",
       "      <td>3</td>\n",
       "      <td>0.00</td>\n",
       "      <td>219.5820</td>\n",
       "    </tr>\n",
       "    <tr>\n",
       "      <th>2</th>\n",
       "      <td>3</td>\n",
       "      <td>CA-2016-138688</td>\n",
       "      <td>2016-06-12</td>\n",
       "      <td>2016-06-16</td>\n",
       "      <td>Second Class</td>\n",
       "      <td>DV-13045</td>\n",
       "      <td>Darrin Van Huff</td>\n",
       "      <td>Corporate</td>\n",
       "      <td>United States</td>\n",
       "      <td>Los Angeles</td>\n",
       "      <td>...</td>\n",
       "      <td>90036</td>\n",
       "      <td>West</td>\n",
       "      <td>OFF-LA-10000240</td>\n",
       "      <td>Office Supplies</td>\n",
       "      <td>Labels</td>\n",
       "      <td>Self-Adhesive Address Labels for Typewriters b...</td>\n",
       "      <td>14.6200</td>\n",
       "      <td>2</td>\n",
       "      <td>0.00</td>\n",
       "      <td>6.8714</td>\n",
       "    </tr>\n",
       "    <tr>\n",
       "      <th>3</th>\n",
       "      <td>4</td>\n",
       "      <td>US-2015-108966</td>\n",
       "      <td>2015-10-11</td>\n",
       "      <td>2015-10-18</td>\n",
       "      <td>Standard Class</td>\n",
       "      <td>SO-20335</td>\n",
       "      <td>Sean O'Donnell</td>\n",
       "      <td>Consumer</td>\n",
       "      <td>United States</td>\n",
       "      <td>Fort Lauderdale</td>\n",
       "      <td>...</td>\n",
       "      <td>33311</td>\n",
       "      <td>South</td>\n",
       "      <td>FUR-TA-10000577</td>\n",
       "      <td>Furniture</td>\n",
       "      <td>Tables</td>\n",
       "      <td>Bretford CR4500 Series Slim Rectangular Table</td>\n",
       "      <td>957.5775</td>\n",
       "      <td>5</td>\n",
       "      <td>0.45</td>\n",
       "      <td>-383.0310</td>\n",
       "    </tr>\n",
       "    <tr>\n",
       "      <th>4</th>\n",
       "      <td>5</td>\n",
       "      <td>US-2015-108966</td>\n",
       "      <td>2015-10-11</td>\n",
       "      <td>2015-10-18</td>\n",
       "      <td>Standard Class</td>\n",
       "      <td>SO-20335</td>\n",
       "      <td>Sean O'Donnell</td>\n",
       "      <td>Consumer</td>\n",
       "      <td>United States</td>\n",
       "      <td>Fort Lauderdale</td>\n",
       "      <td>...</td>\n",
       "      <td>33311</td>\n",
       "      <td>South</td>\n",
       "      <td>OFF-ST-10000760</td>\n",
       "      <td>Office Supplies</td>\n",
       "      <td>Storage</td>\n",
       "      <td>Eldon Fold 'N Roll Cart System</td>\n",
       "      <td>22.3680</td>\n",
       "      <td>2</td>\n",
       "      <td>0.20</td>\n",
       "      <td>2.5164</td>\n",
       "    </tr>\n",
       "    <tr>\n",
       "      <th>...</th>\n",
       "      <td>...</td>\n",
       "      <td>...</td>\n",
       "      <td>...</td>\n",
       "      <td>...</td>\n",
       "      <td>...</td>\n",
       "      <td>...</td>\n",
       "      <td>...</td>\n",
       "      <td>...</td>\n",
       "      <td>...</td>\n",
       "      <td>...</td>\n",
       "      <td>...</td>\n",
       "      <td>...</td>\n",
       "      <td>...</td>\n",
       "      <td>...</td>\n",
       "      <td>...</td>\n",
       "      <td>...</td>\n",
       "      <td>...</td>\n",
       "      <td>...</td>\n",
       "      <td>...</td>\n",
       "      <td>...</td>\n",
       "      <td>...</td>\n",
       "    </tr>\n",
       "    <tr>\n",
       "      <th>9989</th>\n",
       "      <td>9990</td>\n",
       "      <td>CA-2014-110422</td>\n",
       "      <td>2014-01-21</td>\n",
       "      <td>2014-01-23</td>\n",
       "      <td>Second Class</td>\n",
       "      <td>TB-21400</td>\n",
       "      <td>Tom Boeckenhauer</td>\n",
       "      <td>Consumer</td>\n",
       "      <td>United States</td>\n",
       "      <td>Miami</td>\n",
       "      <td>...</td>\n",
       "      <td>33180</td>\n",
       "      <td>South</td>\n",
       "      <td>FUR-FU-10001889</td>\n",
       "      <td>Furniture</td>\n",
       "      <td>Furnishings</td>\n",
       "      <td>Ultra Door Pull Handle</td>\n",
       "      <td>25.2480</td>\n",
       "      <td>3</td>\n",
       "      <td>0.20</td>\n",
       "      <td>4.1028</td>\n",
       "    </tr>\n",
       "    <tr>\n",
       "      <th>9990</th>\n",
       "      <td>9991</td>\n",
       "      <td>CA-2017-121258</td>\n",
       "      <td>2017-02-26</td>\n",
       "      <td>2017-03-03</td>\n",
       "      <td>Standard Class</td>\n",
       "      <td>DB-13060</td>\n",
       "      <td>Dave Brooks</td>\n",
       "      <td>Consumer</td>\n",
       "      <td>United States</td>\n",
       "      <td>Costa Mesa</td>\n",
       "      <td>...</td>\n",
       "      <td>92627</td>\n",
       "      <td>West</td>\n",
       "      <td>FUR-FU-10000747</td>\n",
       "      <td>Furniture</td>\n",
       "      <td>Furnishings</td>\n",
       "      <td>Tenex B1-RE Series Chair Mats for Low Pile Car...</td>\n",
       "      <td>91.9600</td>\n",
       "      <td>2</td>\n",
       "      <td>0.00</td>\n",
       "      <td>15.6332</td>\n",
       "    </tr>\n",
       "    <tr>\n",
       "      <th>9991</th>\n",
       "      <td>9992</td>\n",
       "      <td>CA-2017-121258</td>\n",
       "      <td>2017-02-26</td>\n",
       "      <td>2017-03-03</td>\n",
       "      <td>Standard Class</td>\n",
       "      <td>DB-13060</td>\n",
       "      <td>Dave Brooks</td>\n",
       "      <td>Consumer</td>\n",
       "      <td>United States</td>\n",
       "      <td>Costa Mesa</td>\n",
       "      <td>...</td>\n",
       "      <td>92627</td>\n",
       "      <td>West</td>\n",
       "      <td>TEC-PH-10003645</td>\n",
       "      <td>Technology</td>\n",
       "      <td>Phones</td>\n",
       "      <td>Aastra 57i VoIP phone</td>\n",
       "      <td>258.5760</td>\n",
       "      <td>2</td>\n",
       "      <td>0.20</td>\n",
       "      <td>19.3932</td>\n",
       "    </tr>\n",
       "    <tr>\n",
       "      <th>9992</th>\n",
       "      <td>9993</td>\n",
       "      <td>CA-2017-121258</td>\n",
       "      <td>2017-02-26</td>\n",
       "      <td>2017-03-03</td>\n",
       "      <td>Standard Class</td>\n",
       "      <td>DB-13060</td>\n",
       "      <td>Dave Brooks</td>\n",
       "      <td>Consumer</td>\n",
       "      <td>United States</td>\n",
       "      <td>Costa Mesa</td>\n",
       "      <td>...</td>\n",
       "      <td>92627</td>\n",
       "      <td>West</td>\n",
       "      <td>OFF-PA-10004041</td>\n",
       "      <td>Office Supplies</td>\n",
       "      <td>Paper</td>\n",
       "      <td>It's Hot Message Books with Stickers, 2 3/4\" x 5\"</td>\n",
       "      <td>29.6000</td>\n",
       "      <td>4</td>\n",
       "      <td>0.00</td>\n",
       "      <td>13.3200</td>\n",
       "    </tr>\n",
       "    <tr>\n",
       "      <th>9993</th>\n",
       "      <td>9994</td>\n",
       "      <td>CA-2017-119914</td>\n",
       "      <td>2017-05-04</td>\n",
       "      <td>2017-05-09</td>\n",
       "      <td>Second Class</td>\n",
       "      <td>CC-12220</td>\n",
       "      <td>Chris Cortes</td>\n",
       "      <td>Consumer</td>\n",
       "      <td>United States</td>\n",
       "      <td>Westminster</td>\n",
       "      <td>...</td>\n",
       "      <td>92683</td>\n",
       "      <td>West</td>\n",
       "      <td>OFF-AP-10002684</td>\n",
       "      <td>Office Supplies</td>\n",
       "      <td>Appliances</td>\n",
       "      <td>Acco 7-Outlet Masterpiece Power Center, Wihtou...</td>\n",
       "      <td>243.1600</td>\n",
       "      <td>2</td>\n",
       "      <td>0.00</td>\n",
       "      <td>72.9480</td>\n",
       "    </tr>\n",
       "  </tbody>\n",
       "</table>\n",
       "<p>9994 rows × 21 columns</p>\n",
       "</div>"
      ],
      "text/plain": [
       "      Row ID        Order ID Order Date  Ship Date       Ship Mode  \\\n",
       "0          1  CA-2016-152156 2016-11-08 2016-11-11    Second Class   \n",
       "1          2  CA-2016-152156 2016-11-08 2016-11-11    Second Class   \n",
       "2          3  CA-2016-138688 2016-06-12 2016-06-16    Second Class   \n",
       "3          4  US-2015-108966 2015-10-11 2015-10-18  Standard Class   \n",
       "4          5  US-2015-108966 2015-10-11 2015-10-18  Standard Class   \n",
       "...      ...             ...        ...        ...             ...   \n",
       "9989    9990  CA-2014-110422 2014-01-21 2014-01-23    Second Class   \n",
       "9990    9991  CA-2017-121258 2017-02-26 2017-03-03  Standard Class   \n",
       "9991    9992  CA-2017-121258 2017-02-26 2017-03-03  Standard Class   \n",
       "9992    9993  CA-2017-121258 2017-02-26 2017-03-03  Standard Class   \n",
       "9993    9994  CA-2017-119914 2017-05-04 2017-05-09    Second Class   \n",
       "\n",
       "     Customer ID     Customer Name    Segment        Country             City  \\\n",
       "0       CG-12520       Claire Gute   Consumer  United States        Henderson   \n",
       "1       CG-12520       Claire Gute   Consumer  United States        Henderson   \n",
       "2       DV-13045   Darrin Van Huff  Corporate  United States      Los Angeles   \n",
       "3       SO-20335    Sean O'Donnell   Consumer  United States  Fort Lauderdale   \n",
       "4       SO-20335    Sean O'Donnell   Consumer  United States  Fort Lauderdale   \n",
       "...          ...               ...        ...            ...              ...   \n",
       "9989    TB-21400  Tom Boeckenhauer   Consumer  United States            Miami   \n",
       "9990    DB-13060       Dave Brooks   Consumer  United States       Costa Mesa   \n",
       "9991    DB-13060       Dave Brooks   Consumer  United States       Costa Mesa   \n",
       "9992    DB-13060       Dave Brooks   Consumer  United States       Costa Mesa   \n",
       "9993    CC-12220      Chris Cortes   Consumer  United States      Westminster   \n",
       "\n",
       "      ... Postal Code  Region       Product ID         Category Sub-Category  \\\n",
       "0     ...       42420   South  FUR-BO-10001798        Furniture    Bookcases   \n",
       "1     ...       42420   South  FUR-CH-10000454        Furniture       Chairs   \n",
       "2     ...       90036    West  OFF-LA-10000240  Office Supplies       Labels   \n",
       "3     ...       33311   South  FUR-TA-10000577        Furniture       Tables   \n",
       "4     ...       33311   South  OFF-ST-10000760  Office Supplies      Storage   \n",
       "...   ...         ...     ...              ...              ...          ...   \n",
       "9989  ...       33180   South  FUR-FU-10001889        Furniture  Furnishings   \n",
       "9990  ...       92627    West  FUR-FU-10000747        Furniture  Furnishings   \n",
       "9991  ...       92627    West  TEC-PH-10003645       Technology       Phones   \n",
       "9992  ...       92627    West  OFF-PA-10004041  Office Supplies        Paper   \n",
       "9993  ...       92683    West  OFF-AP-10002684  Office Supplies   Appliances   \n",
       "\n",
       "                                           Product Name     Sales  Quantity  \\\n",
       "0                     Bush Somerset Collection Bookcase  261.9600         2   \n",
       "1     Hon Deluxe Fabric Upholstered Stacking Chairs,...  731.9400         3   \n",
       "2     Self-Adhesive Address Labels for Typewriters b...   14.6200         2   \n",
       "3         Bretford CR4500 Series Slim Rectangular Table  957.5775         5   \n",
       "4                        Eldon Fold 'N Roll Cart System   22.3680         2   \n",
       "...                                                 ...       ...       ...   \n",
       "9989                             Ultra Door Pull Handle   25.2480         3   \n",
       "9990  Tenex B1-RE Series Chair Mats for Low Pile Car...   91.9600         2   \n",
       "9991                              Aastra 57i VoIP phone  258.5760         2   \n",
       "9992  It's Hot Message Books with Stickers, 2 3/4\" x 5\"   29.6000         4   \n",
       "9993  Acco 7-Outlet Masterpiece Power Center, Wihtou...  243.1600         2   \n",
       "\n",
       "      Discount    Profit  \n",
       "0         0.00   41.9136  \n",
       "1         0.00  219.5820  \n",
       "2         0.00    6.8714  \n",
       "3         0.45 -383.0310  \n",
       "4         0.20    2.5164  \n",
       "...        ...       ...  \n",
       "9989      0.20    4.1028  \n",
       "9990      0.00   15.6332  \n",
       "9991      0.20   19.3932  \n",
       "9992      0.00   13.3200  \n",
       "9993      0.00   72.9480  \n",
       "\n",
       "[9994 rows x 21 columns]"
      ]
     },
     "execution_count": 4,
     "metadata": {},
     "output_type": "execute_result"
    }
   ],
   "source": [
    "df=pd.read_excel(\"Sample - Superstore.xls\")\n",
    "df"
   ]
  },
  {
   "cell_type": "code",
   "execution_count": 5,
   "metadata": {},
   "outputs": [
    {
     "data": {
      "text/plain": [
       "array(['CA-2016-152156', 'CA-2016-138688', 'US-2015-108966', ...,\n",
       "       'CA-2014-110422', 'CA-2017-121258', 'CA-2017-119914'],\n",
       "      shape=(5009,), dtype=object)"
      ]
     },
     "execution_count": 5,
     "metadata": {},
     "output_type": "execute_result"
    }
   ],
   "source": [
    "# Question 1: Find total number of orders in the dataset.\n",
    "df['Order ID'].unique()\n"
   ]
  },
  {
   "cell_type": "code",
   "execution_count": 6,
   "metadata": {},
   "outputs": [
    {
     "data": {
      "text/plain": [
       "Timestamp('2014-01-03 00:00:00')"
      ]
     },
     "execution_count": 6,
     "metadata": {},
     "output_type": "execute_result"
    }
   ],
   "source": [
    "# Question 2: Find the earliest order date.\n",
    "df['Order Date'].min()"
   ]
  },
  {
   "cell_type": "code",
   "execution_count": 7,
   "metadata": {},
   "outputs": [
    {
     "data": {
      "text/plain": [
       "Timestamp('2017-12-30 00:00:00')"
      ]
     },
     "execution_count": 7,
     "metadata": {},
     "output_type": "execute_result"
    }
   ],
   "source": [
    "# Question 3: Find the latest order date.\n",
    "df['Order Date'].max()"
   ]
  },
  {
   "cell_type": "code",
   "execution_count": 8,
   "metadata": {},
   "outputs": [
    {
     "data": {
      "text/plain": [
       "793"
      ]
     },
     "execution_count": 8,
     "metadata": {},
     "output_type": "execute_result"
    }
   ],
   "source": [
    "#Question 4: Find the total number of unique customers.\n",
    "df['Customer ID'].nunique()"
   ]
  },
  {
   "cell_type": "code",
   "execution_count": 9,
   "metadata": {},
   "outputs": [
    {
     "data": {
      "text/plain": [
       "1862"
      ]
     },
     "execution_count": 9,
     "metadata": {},
     "output_type": "execute_result"
    }
   ],
   "source": [
    "#Question 5: Find the total number of unique products sold.\n",
    "df['Product ID'].nunique()"
   ]
  },
  {
   "cell_type": "code",
   "execution_count": 10,
   "metadata": {},
   "outputs": [
    {
     "data": {
      "text/plain": [
       "3"
      ]
     },
     "execution_count": 10,
     "metadata": {},
     "output_type": "execute_result"
    }
   ],
   "source": [
    "\n",
    "#Question 6: Find the total number of unique categories.\n",
    "df['Category'].nunique()"
   ]
  },
  {
   "cell_type": "code",
   "execution_count": 11,
   "metadata": {},
   "outputs": [
    {
     "data": {
      "text/plain": [
       "Sub-Category\n",
       "Binders        1523\n",
       "Paper          1370\n",
       "Furnishings     957\n",
       "Phones          889\n",
       "Storage         846\n",
       "Art             796\n",
       "Accessories     775\n",
       "Chairs          617\n",
       "Appliances      466\n",
       "Labels          364\n",
       "Tables          319\n",
       "Envelopes       254\n",
       "Bookcases       228\n",
       "Fasteners       217\n",
       "Supplies        190\n",
       "Machines        115\n",
       "Copiers          68\n",
       "Name: count, dtype: int64"
      ]
     },
     "execution_count": 11,
     "metadata": {},
     "output_type": "execute_result"
    }
   ],
   "source": [
    "#Question 7: Find the total number of unique sub-categories.\n",
    "df['Sub-Category'].value_counts()"
   ]
  },
  {
   "cell_type": "code",
   "execution_count": 12,
   "metadata": {},
   "outputs": [
    {
     "data": {
      "text/plain": [
       "Region\n",
       "West       3203\n",
       "East       2848\n",
       "Central    2323\n",
       "South      1620\n",
       "Name: count, dtype: int64"
      ]
     },
     "execution_count": 12,
     "metadata": {},
     "output_type": "execute_result"
    }
   ],
   "source": [
    "#Question 8: Count number of orders in each region.\n",
    "df['Region'].value_counts()"
   ]
  },
  {
   "cell_type": "code",
   "execution_count": 13,
   "metadata": {},
   "outputs": [
    {
     "data": {
      "text/plain": [
       "State\n",
       "California              2001\n",
       "New York                1128\n",
       "Texas                    985\n",
       "Pennsylvania             587\n",
       "Washington               506\n",
       "Illinois                 492\n",
       "Ohio                     469\n",
       "Florida                  383\n",
       "Michigan                 255\n",
       "North Carolina           249\n",
       "Arizona                  224\n",
       "Virginia                 224\n",
       "Georgia                  184\n",
       "Tennessee                183\n",
       "Colorado                 182\n",
       "Indiana                  149\n",
       "Kentucky                 139\n",
       "Massachusetts            135\n",
       "New Jersey               130\n",
       "Oregon                   124\n",
       "Wisconsin                110\n",
       "Maryland                 105\n",
       "Delaware                  96\n",
       "Minnesota                 89\n",
       "Connecticut               82\n",
       "Missouri                  66\n",
       "Oklahoma                  66\n",
       "Alabama                   61\n",
       "Arkansas                  60\n",
       "Rhode Island              56\n",
       "Utah                      53\n",
       "Mississippi               53\n",
       "South Carolina            42\n",
       "Louisiana                 42\n",
       "Nevada                    39\n",
       "Nebraska                  38\n",
       "New Mexico                37\n",
       "Iowa                      30\n",
       "New Hampshire             27\n",
       "Kansas                    24\n",
       "Idaho                     21\n",
       "Montana                   15\n",
       "South Dakota              12\n",
       "Vermont                   11\n",
       "District of Columbia      10\n",
       "Maine                      8\n",
       "North Dakota               7\n",
       "West Virginia              4\n",
       "Wyoming                    1\n",
       "Name: count, dtype: int64"
      ]
     },
     "execution_count": 13,
     "metadata": {},
     "output_type": "execute_result"
    }
   ],
   "source": [
    "# Question 9: Count number of orders by state.\n",
    "df['State'].value_counts()"
   ]
  },
  {
   "cell_type": "code",
   "execution_count": 14,
   "metadata": {},
   "outputs": [
    {
     "data": {
      "text/plain": [
       "City\n",
       "New York City    915\n",
       "Los Angeles      747\n",
       "Philadelphia     537\n",
       "San Francisco    510\n",
       "Seattle          428\n",
       "                ... \n",
       "Abilene            1\n",
       "Montebello         1\n",
       "Kissimmee          1\n",
       "Danbury            1\n",
       "Springdale         1\n",
       "Name: count, Length: 531, dtype: int64"
      ]
     },
     "execution_count": 14,
     "metadata": {},
     "output_type": "execute_result"
    }
   ],
   "source": [
    "#Question 10: Count number of orders by city.\n",
    "df['City'].value_counts()"
   ]
  },
  {
   "cell_type": "code",
   "execution_count": 15,
   "metadata": {},
   "outputs": [
    {
     "data": {
      "text/plain": [
       "0    Standard Class\n",
       "Name: Ship Mode, dtype: object"
      ]
     },
     "execution_count": 15,
     "metadata": {},
     "output_type": "execute_result"
    }
   ],
   "source": [
    "# Question 11: Find the most common ship mode.\n",
    "df['Ship Mode'].mode()"
   ]
  },
  {
   "cell_type": "code",
   "execution_count": 16,
   "metadata": {},
   "outputs": [
    {
     "data": {
      "text/plain": [
       "'Standard Class'"
      ]
     },
     "execution_count": 16,
     "metadata": {},
     "output_type": "execute_result"
    }
   ],
   "source": [
    "df['Ship Mode'].max()"
   ]
  },
  {
   "cell_type": "code",
   "execution_count": 17,
   "metadata": {},
   "outputs": [
    {
     "data": {
      "text/plain": [
       "'First Class'"
      ]
     },
     "execution_count": 17,
     "metadata": {},
     "output_type": "execute_result"
    }
   ],
   "source": [
    "#Question 12: Find the least common ship mode.\n",
    "df['Ship Mode'].min()"
   ]
  },
  {
   "cell_type": "code",
   "execution_count": 18,
   "metadata": {},
   "outputs": [
    {
     "data": {
      "text/plain": [
       "np.int64(543)"
      ]
     },
     "execution_count": 18,
     "metadata": {},
     "output_type": "execute_result"
    }
   ],
   "source": [
    "#Question 13: Count number of orders shipped with \"Same Day\" mode.\n",
    "df['Ship Mode'].value_counts()['Same Day']"
   ]
  },
  {
   "cell_type": "code",
   "execution_count": 19,
   "metadata": {},
   "outputs": [
    {
     "data": {
      "text/plain": [
       "Ship Mode\n",
       "Standard Class    5968\n",
       "Second Class      1945\n",
       "First Class       1538\n",
       "Same Day           543\n",
       "Name: count, dtype: int64"
      ]
     },
     "execution_count": 19,
     "metadata": {},
     "output_type": "execute_result"
    }
   ],
   "source": [
    "#Question 13:Count number of orders shipped with \"First Class\".\n",
    "df['Ship Mode'].value_counts()"
   ]
  },
  {
   "cell_type": "code",
   "execution_count": 20,
   "metadata": {},
   "outputs": [
    {
     "data": {
      "text/plain": [
       "np.int64(1538)"
      ]
     },
     "execution_count": 20,
     "metadata": {},
     "output_type": "execute_result"
    }
   ],
   "source": [
    "#Question 13:Count number of orders shipped with \"First Class\".\n",
    "df['Ship Mode'].value_counts()['First Class']"
   ]
  },
  {
   "cell_type": "code",
   "execution_count": 21,
   "metadata": {},
   "outputs": [
    {
     "data": {
      "text/plain": [
       "np.int64(1945)"
      ]
     },
     "execution_count": 21,
     "metadata": {},
     "output_type": "execute_result"
    }
   ],
   "source": [
    "#Question 15: Count number of orders shipped with \"Second Class\".\n",
    "df['Ship Mode'].value_counts()['Second Class']"
   ]
  },
  {
   "cell_type": "code",
   "execution_count": 22,
   "metadata": {},
   "outputs": [
    {
     "data": {
      "text/plain": [
       "np.int64(5968)"
      ]
     },
     "execution_count": 22,
     "metadata": {},
     "output_type": "execute_result"
    }
   ],
   "source": [
    "#Question 16: Count number of orders shipped with \"Standard Class\"\n",
    "df['Ship Mode'].value_counts()['Standard Class']"
   ]
  },
  {
   "cell_type": "code",
   "execution_count": 23,
   "metadata": {},
   "outputs": [
    {
     "data": {
      "text/plain": [
       "Order Date\n",
       "2017    3312\n",
       "2016    2587\n",
       "2015    2102\n",
       "2014    1993\n",
       "Name: count, dtype: int64"
      ]
     },
     "execution_count": 23,
     "metadata": {},
     "output_type": "execute_result"
    }
   ],
   "source": [
    "#Question 17: Find number of orders in each year.\n",
    "df['Order Date'].dt.year.value_counts()"
   ]
  },
  {
   "cell_type": "code",
   "execution_count": 24,
   "metadata": {},
   "outputs": [
    {
     "data": {
      "text/plain": [
       "Order Date\n",
       "4    3698\n",
       "3    2799\n",
       "2    2120\n",
       "1    1377\n",
       "Name: count, dtype: int64"
      ]
     },
     "execution_count": 24,
     "metadata": {},
     "output_type": "execute_result"
    }
   ],
   "source": [
    "#Question 18: Find number of orders in each quarter.\n",
    "df['Order Date'].dt.quarter.value_counts()"
   ]
  },
  {
   "cell_type": "code",
   "execution_count": 25,
   "metadata": {},
   "outputs": [
    {
     "data": {
      "text/plain": [
       "Order Date\n",
       "11    1471\n",
       "12    1408\n",
       "9     1383\n",
       "10     819\n",
       "5      735\n",
       "6      717\n",
       "7      710\n",
       "8      706\n",
       "3      696\n",
       "4      668\n",
       "1      381\n",
       "2      300\n",
       "Name: count, dtype: int64"
      ]
     },
     "execution_count": 25,
     "metadata": {},
     "output_type": "execute_result"
    }
   ],
   "source": [
    "#Question 19: Find number of orders in each month\n",
    "df['Order Date'].dt.month.value_counts()"
   ]
  },
  {
   "cell_type": "code",
   "execution_count": 26,
   "metadata": {},
   "outputs": [
    {
     "data": {
      "text/plain": [
       "Order Date\n",
       "Monday       1871\n",
       "Friday       1818\n",
       "Sunday       1710\n",
       "Saturday     1655\n",
       "Thursday     1463\n",
       "Tuesday      1106\n",
       "Wednesday     371\n",
       "Name: count, dtype: int64"
      ]
     },
     "execution_count": 26,
     "metadata": {},
     "output_type": "execute_result"
    }
   ],
   "source": [
    "#Question 20: Find number of orders in each weekday.\n",
    "df['Order Date'].dt.day_name().value_counts()"
   ]
  },
  {
   "cell_type": "code",
   "execution_count": 27,
   "metadata": {},
   "outputs": [
    {
     "data": {
      "text/plain": [
       "np.int64(5196)"
      ]
     },
     "execution_count": 27,
     "metadata": {},
     "output_type": "execute_result"
    }
   ],
   "source": [
    "#Question 21: Count orders with discount applied.\n",
    "df['Discount'].apply(lambda x:x>0).sum()"
   ]
  },
  {
   "cell_type": "code",
   "execution_count": 28,
   "metadata": {},
   "outputs": [
    {
     "data": {
      "text/plain": [
       "np.int64(4798)"
      ]
     },
     "execution_count": 28,
     "metadata": {},
     "output_type": "execute_result"
    }
   ],
   "source": [
    "#Question 22: Count orders without discount.\n",
    "df['Discount'].apply(lambda x:x==0).sum()\n"
   ]
  },
  {
   "cell_type": "code",
   "execution_count": 29,
   "metadata": {},
   "outputs": [
    {
     "data": {
      "text/plain": [
       "np.int64(4798)"
      ]
     },
     "execution_count": 29,
     "metadata": {},
     "output_type": "execute_result"
    }
   ],
   "source": [
    "#Question 23: Count orders where discount = 0.\n",
    "df['Discount'].apply(lambda x:x==0).sum()"
   ]
  },
  {
   "cell_type": "code",
   "execution_count": 30,
   "metadata": {},
   "outputs": [
    {
     "data": {
      "text/plain": [
       "np.int64(1393)"
      ]
     },
     "execution_count": 30,
     "metadata": {},
     "output_type": "execute_result"
    }
   ],
   "source": [
    "#Question 24: Count orders where discount > 0.2.\n",
    "df['Discount'].apply(lambda x:x>0.2).sum()"
   ]
  },
  {
   "cell_type": "code",
   "execution_count": 31,
   "metadata": {},
   "outputs": [
    {
     "data": {
      "text/plain": [
       "np.int64(66)"
      ]
     },
     "execution_count": 31,
     "metadata": {},
     "output_type": "execute_result"
    }
   ],
   "source": [
    "#Question 25: Count orders where discount = 0.5.\n",
    "df['Discount'].apply(lambda x:x==0.5).sum()"
   ]
  },
  {
   "cell_type": "code",
   "execution_count": 32,
   "metadata": {},
   "outputs": [
    {
     "data": {
      "text/plain": [
       "np.float64(0.8)"
      ]
     },
     "execution_count": 32,
     "metadata": {},
     "output_type": "execute_result"
    }
   ],
   "source": [
    "#Question 26: Find maximum discount given.\n",
    "df['Discount'].max()"
   ]
  },
  {
   "cell_type": "code",
   "execution_count": 33,
   "metadata": {},
   "outputs": [
    {
     "data": {
      "text/plain": [
       "np.float64(0.0)"
      ]
     },
     "execution_count": 33,
     "metadata": {},
     "output_type": "execute_result"
    }
   ],
   "source": [
    "#Question 27: Find minimum discount given.\n",
    "df['Discount'].min()"
   ]
  },
  {
   "cell_type": "code",
   "execution_count": 34,
   "metadata": {},
   "outputs": [
    {
     "data": {
      "text/plain": [
       "np.int64(1871)"
      ]
     },
     "execution_count": 34,
     "metadata": {},
     "output_type": "execute_result"
    }
   ],
   "source": [
    "#Question 28: Count orders where profit < 0.\n",
    "df['Profit'].apply(lambda x:x< 0).sum()"
   ]
  },
  {
   "cell_type": "code",
   "execution_count": 35,
   "metadata": {},
   "outputs": [
    {
     "data": {
      "text/plain": [
       "np.int64(65)"
      ]
     },
     "execution_count": 35,
     "metadata": {},
     "output_type": "execute_result"
    }
   ],
   "source": [
    "#Question 29: Count orders where profit = 0.\n",
    "df['Profit'].apply(lambda x:x==0).sum()\n"
   ]
  },
  {
   "cell_type": "code",
   "execution_count": 36,
   "metadata": {},
   "outputs": [
    {
     "data": {
      "text/plain": [
       "np.int64(890)"
      ]
     },
     "execution_count": 36,
     "metadata": {},
     "output_type": "execute_result"
    }
   ],
   "source": [
    "#Question 30: Count orders where profit > 100.\n",
    "df['Profit'].apply(lambda x:x>100).sum()"
   ]
  },
  {
   "cell_type": "code",
   "execution_count": 37,
   "metadata": {},
   "outputs": [
    {
     "data": {
      "text/plain": [
       "np.int64(468)"
      ]
     },
     "execution_count": 37,
     "metadata": {},
     "output_type": "execute_result"
    }
   ],
   "source": [
    "#Question 31: Count orders where sales > 1000.\n",
    "df['Sales'].apply(lambda x:x>1000).sum()"
   ]
  },
  {
   "cell_type": "code",
   "execution_count": 38,
   "metadata": {},
   "outputs": [
    {
     "data": {
      "text/plain": [
       "np.int64(37873)"
      ]
     },
     "execution_count": 38,
     "metadata": {},
     "output_type": "execute_result"
    }
   ],
   "source": [
    "# Question 32:Find total quantity sold.\n",
    "df['Quantity'].sum()"
   ]
  },
  {
   "cell_type": "code",
   "execution_count": 39,
   "metadata": {},
   "outputs": [
    {
     "data": {
      "text/plain": [
       "np.float64(7.560990217608305)"
      ]
     },
     "execution_count": 39,
     "metadata": {},
     "output_type": "execute_result"
    }
   ],
   "source": [
    "# Question 33: Find average quantity per order.\n",
    "df['Quantity'].sum() / df['Order ID'].nunique()"
   ]
  },
  {
   "cell_type": "code",
   "execution_count": 40,
   "metadata": {},
   "outputs": [
    {
     "data": {
      "text/plain": [
       "np.float64(458.61466566180883)"
      ]
     },
     "execution_count": 40,
     "metadata": {},
     "output_type": "execute_result"
    }
   ],
   "source": [
    "# Question 34: Find average sales per order.\n",
    "df['Sales'].sum() / df['Order ID'].nunique()"
   ]
  },
  {
   "cell_type": "code",
   "execution_count": 41,
   "metadata": {},
   "outputs": [
    {
     "data": {
      "text/plain": [
       "np.float64(57.17648666400478)"
      ]
     },
     "execution_count": 41,
     "metadata": {},
     "output_type": "execute_result"
    }
   ],
   "source": [
    "# Question 35: Find average profit per order.\n",
    "df['Profit'].sum() / df['Order ID'].nunique()"
   ]
  },
  {
   "cell_type": "code",
   "execution_count": 42,
   "metadata": {},
   "outputs": [
    {
     "data": {
      "text/plain": [
       "np.float64(22638.48)"
      ]
     },
     "execution_count": 42,
     "metadata": {},
     "output_type": "execute_result"
    }
   ],
   "source": [
    "# Question 36: Find maximum sales in a single order.\n",
    "df['Sales'].max()\n"
   ]
  },
  {
   "cell_type": "code",
   "execution_count": 43,
   "metadata": {},
   "outputs": [
    {
     "data": {
      "text/plain": [
       "np.float64(0.44399999999999995)"
      ]
     },
     "execution_count": 43,
     "metadata": {},
     "output_type": "execute_result"
    }
   ],
   "source": [
    "# Question 37: Find minimum sales in a single order.\n",
    "df['Sales'].min()"
   ]
  },
  {
   "cell_type": "code",
   "execution_count": 44,
   "metadata": {},
   "outputs": [
    {
     "data": {
      "text/plain": [
       "np.float64(8399.975999999999)"
      ]
     },
     "execution_count": 44,
     "metadata": {},
     "output_type": "execute_result"
    }
   ],
   "source": [
    "# Question 38: Find maximum profit in a single order.\n",
    "df['Profit'].max()"
   ]
  },
  {
   "cell_type": "code",
   "execution_count": 45,
   "metadata": {},
   "outputs": [
    {
     "data": {
      "text/plain": [
       "np.float64(-6599.978000000001)"
      ]
     },
     "execution_count": 45,
     "metadata": {},
     "output_type": "execute_result"
    }
   ],
   "source": [
    "# Question 39: Find minimum profit in a single order.\n",
    "df['Profit'].min()"
   ]
  },
  {
   "cell_type": "code",
   "execution_count": 46,
   "metadata": {},
   "outputs": [
    {
     "data": {
      "text/plain": [
       "6.316519546027743"
      ]
     },
     "execution_count": 46,
     "metadata": {},
     "output_type": "execute_result"
    }
   ],
   "source": [
    "# Question 40: Find number of orders per customer.\n",
    "df['Order ID'].nunique()/df['Customer ID'].nunique()"
   ]
  },
  {
   "cell_type": "code",
   "execution_count": 47,
   "metadata": {},
   "outputs": [
    {
     "data": {
      "text/plain": [
       "<pandas.core.groupby.generic.DataFrameGroupBy object at 0x000000995F5EECF0>"
      ]
     },
     "execution_count": 47,
     "metadata": {},
     "output_type": "execute_result"
    }
   ],
   "source": [
    "# Question 41: Find customers who placed only 1 order.\n",
    "df.groupby('Customer ID')"
   ]
  },
  {
   "cell_type": "code",
   "execution_count": 48,
   "metadata": {},
   "outputs": [],
   "source": [
    "# Question 42: Find customers who placed more than 10 orders."
   ]
  },
  {
   "cell_type": "code",
   "execution_count": 49,
   "metadata": {},
   "outputs": [
    {
     "data": {
      "text/plain": [
       "49"
      ]
     },
     "execution_count": 49,
     "metadata": {},
     "output_type": "execute_result"
    }
   ],
   "source": [
    "# Question 43: Find total number of states represented.\n",
    "df['State'].nunique()"
   ]
  },
  {
   "cell_type": "code",
   "execution_count": 50,
   "metadata": {},
   "outputs": [
    {
     "data": {
      "text/plain": [
       "531"
      ]
     },
     "execution_count": 50,
     "metadata": {},
     "output_type": "execute_result"
    }
   ],
   "source": [
    "# Question 44: Find total number of cities represented.\n",
    "df['City'].nunique()"
   ]
  },
  {
   "cell_type": "code",
   "execution_count": 51,
   "metadata": {},
   "outputs": [
    {
     "data": {
      "text/plain": [
       "1021"
      ]
     },
     "execution_count": 51,
     "metadata": {},
     "output_type": "execute_result"
    }
   ],
   "source": [
    "# Question 45: Find number of orders placed from California.\n",
    "df[df['State']=='California']['Order ID'].nunique()"
   ]
  },
  {
   "cell_type": "code",
   "execution_count": 52,
   "metadata": {},
   "outputs": [
    {
     "data": {
      "text/plain": [
       "562"
      ]
     },
     "execution_count": 52,
     "metadata": {},
     "output_type": "execute_result"
    }
   ],
   "source": [
    "# Question 46: Find number of orders placed from New York.\n",
    "df[df['State']=='New York']['Order ID'].nunique()"
   ]
  },
  {
   "cell_type": "code",
   "execution_count": 53,
   "metadata": {},
   "outputs": [
    {
     "data": {
      "text/plain": [
       "487"
      ]
     },
     "execution_count": 53,
     "metadata": {},
     "output_type": "execute_result"
    }
   ],
   "source": [
    "# Question 47: Find number of orders placed from Texas.\n",
    "df[df['State']=='Texas']['Order ID'].nunique()"
   ]
  },
  {
   "cell_type": "code",
   "execution_count": 54,
   "metadata": {},
   "outputs": [
    {
     "data": {
      "text/plain": [
       "200"
      ]
     },
     "execution_count": 54,
     "metadata": {},
     "output_type": "execute_result"
    }
   ],
   "source": [
    "# Question 48: Find number of orders placed from Florida.\n",
    "df[df['State']=='Florida']['Order ID'].nunique()"
   ]
  },
  {
   "cell_type": "code",
   "execution_count": 55,
   "metadata": {},
   "outputs": [],
   "source": [
    "# Question 49: Find number of orders shipped after 5 days of order.\n"
   ]
  },
  {
   "cell_type": "code",
   "execution_count": 56,
   "metadata": {},
   "outputs": [],
   "source": [
    "# Question 50: Find average shipping time in days."
   ]
  },
  {
   "attachments": {},
   "cell_type": "markdown",
   "metadata": {},
   "source": [
    "Sales & Profit Analysis (Questions 51-100)"
   ]
  },
  {
   "cell_type": "code",
   "execution_count": 57,
   "metadata": {},
   "outputs": [
    {
     "data": {
      "text/plain": [
       "<bound method Series.sum of 0       261.9600\n",
       "1       731.9400\n",
       "2        14.6200\n",
       "3       957.5775\n",
       "4        22.3680\n",
       "          ...   \n",
       "9989     25.2480\n",
       "9990     91.9600\n",
       "9991    258.5760\n",
       "9992     29.6000\n",
       "9993    243.1600\n",
       "Name: Sales, Length: 9994, dtype: float64>"
      ]
     },
     "execution_count": 57,
     "metadata": {},
     "output_type": "execute_result"
    }
   ],
   "source": [
    "#Question 51: Find total sales.\n",
    "df['Sales'].sum\n"
   ]
  },
  {
   "cell_type": "code",
   "execution_count": 58,
   "metadata": {},
   "outputs": [
    {
     "data": {
      "text/plain": [
       "np.float64(286397.0216999999)"
      ]
     },
     "execution_count": 58,
     "metadata": {},
     "output_type": "execute_result"
    }
   ],
   "source": [
    "#Question 52: Find total profit.\n",
    "df['Profit'].sum()"
   ]
  },
  {
   "cell_type": "code",
   "execution_count": 59,
   "metadata": {},
   "outputs": [
    {
     "data": {
      "text/plain": [
       "np.float64(458.61466566180883)"
      ]
     },
     "execution_count": 59,
     "metadata": {},
     "output_type": "execute_result"
    }
   ],
   "source": [
    "# Question 53: Find average sales per order.\n",
    "df.groupby('Order ID')['Sales'].sum().mean()"
   ]
  },
  {
   "cell_type": "code",
   "execution_count": 60,
   "metadata": {},
   "outputs": [
    {
     "data": {
      "text/plain": [
       "np.float64(57.17648666400478)"
      ]
     },
     "execution_count": 60,
     "metadata": {},
     "output_type": "execute_result"
    }
   ],
   "source": [
    "# Question 54: Find average profit per order.\n",
    "df.groupby('Order ID')['Profit'].sum().mean()"
   ]
  },
  {
   "cell_type": "code",
   "execution_count": 61,
   "metadata": {},
   "outputs": [
    {
     "data": {
      "text/plain": [
       "Category\n",
       "Furniture          741999.7953\n",
       "Office Supplies    719047.0320\n",
       "Technology         836154.0330\n",
       "Name: Sales, dtype: float64"
      ]
     },
     "execution_count": 61,
     "metadata": {},
     "output_type": "execute_result"
    }
   ],
   "source": [
    "# Question 55: Find sales by category.\n",
    "df.groupby(\"Category\")['Sales'].sum()\n"
   ]
  },
  {
   "cell_type": "code",
   "execution_count": 62,
   "metadata": {},
   "outputs": [
    {
     "data": {
      "text/plain": [
       "Category\n",
       "Furniture           18451.2728\n",
       "Office Supplies    122490.8008\n",
       "Technology         145454.9481\n",
       "Name: Profit, dtype: float64"
      ]
     },
     "execution_count": 62,
     "metadata": {},
     "output_type": "execute_result"
    }
   ],
   "source": [
    "# Question 56: Find profit by category.\n",
    "df.groupby(\"Category\")['Profit'].sum()\n"
   ]
  },
  {
   "cell_type": "code",
   "execution_count": 63,
   "metadata": {},
   "outputs": [
    {
     "data": {
      "text/plain": [
       "Index(['Row ID', 'Order ID', 'Order Date', 'Ship Date', 'Ship Mode',\n",
       "       'Customer ID', 'Customer Name', 'Segment', 'Country', 'City', 'State',\n",
       "       'Postal Code', 'Region', 'Product ID', 'Category', 'Sub-Category',\n",
       "       'Product Name', 'Sales', 'Quantity', 'Discount', 'Profit'],\n",
       "      dtype='object')"
      ]
     },
     "execution_count": 63,
     "metadata": {},
     "output_type": "execute_result"
    }
   ],
   "source": [
    "df.columns"
   ]
  },
  {
   "cell_type": "code",
   "execution_count": 64,
   "metadata": {},
   "outputs": [
    {
     "data": {
      "text/plain": [
       "Sub-Category\n",
       "Accessories    167380.3180\n",
       "Appliances     107532.1610\n",
       "Art             27118.7920\n",
       "Binders        203412.7330\n",
       "Bookcases      114879.9963\n",
       "Chairs         328449.1030\n",
       "Copiers        149528.0300\n",
       "Envelopes       16476.4020\n",
       "Fasteners        3024.2800\n",
       "Furnishings     91705.1640\n",
       "Labels          12486.3120\n",
       "Machines       189238.6310\n",
       "Paper           78479.2060\n",
       "Phones         330007.0540\n",
       "Storage        223843.6080\n",
       "Supplies        46673.5380\n",
       "Tables         206965.5320\n",
       "Name: Sales, dtype: float64"
      ]
     },
     "execution_count": 64,
     "metadata": {},
     "output_type": "execute_result"
    }
   ],
   "source": [
    "# Question 57: Find sales by sub-category.\n",
    "df.groupby('Sub-Category')['Sales'].sum()"
   ]
  },
  {
   "cell_type": "code",
   "execution_count": 65,
   "metadata": {},
   "outputs": [
    {
     "data": {
      "text/plain": [
       "Sub-Category\n",
       "Accessories    41936.6357\n",
       "Appliances     18138.0054\n",
       "Art             6527.7870\n",
       "Binders        30221.7633\n",
       "Bookcases      -3472.5560\n",
       "Chairs         26590.1663\n",
       "Copiers        55617.8249\n",
       "Envelopes       6964.1767\n",
       "Fasteners        949.5182\n",
       "Furnishings    13059.1436\n",
       "Labels          5546.2540\n",
       "Machines        3384.7569\n",
       "Paper          34053.5693\n",
       "Phones         44515.7306\n",
       "Storage        21278.8264\n",
       "Supplies       -1189.0995\n",
       "Tables        -17725.4811\n",
       "Name: Profit, dtype: float64"
      ]
     },
     "execution_count": 65,
     "metadata": {},
     "output_type": "execute_result"
    }
   ],
   "source": [
    "# Question 58: Find profit by sub-category.\n",
    "df.groupby('Sub-Category')['Profit'].sum()"
   ]
  },
  {
   "cell_type": "code",
   "execution_count": 66,
   "metadata": {},
   "outputs": [
    {
     "data": {
      "text/plain": [
       "'Technology'"
      ]
     },
     "execution_count": 66,
     "metadata": {},
     "output_type": "execute_result"
    }
   ],
   "source": [
    "# Question 59: Find highest sales category.\n",
    "df.groupby('Category')['Sales'].sum().idxmax()"
   ]
  },
  {
   "cell_type": "code",
   "execution_count": 67,
   "metadata": {},
   "outputs": [
    {
     "data": {
      "text/plain": [
       "'Technology'"
      ]
     },
     "execution_count": 67,
     "metadata": {},
     "output_type": "execute_result"
    }
   ],
   "source": [
    "# Question 60: Find highest profit category.\n",
    "df.groupby('Category')['Profit'].sum().idxmax()"
   ]
  },
  {
   "cell_type": "code",
   "execution_count": 68,
   "metadata": {},
   "outputs": [
    {
     "data": {
      "text/plain": [
       "'Furniture'"
      ]
     },
     "execution_count": 68,
     "metadata": {},
     "output_type": "execute_result"
    }
   ],
   "source": [
    "#Question 61: Find lowest profit category.\n",
    "df.groupby('Category')['Profit'].sum().idxmin()"
   ]
  },
  {
   "cell_type": "code",
   "execution_count": 69,
   "metadata": {},
   "outputs": [
    {
     "data": {
      "text/plain": [
       "'Fasteners'"
      ]
     },
     "execution_count": 69,
     "metadata": {},
     "output_type": "execute_result"
    }
   ],
   "source": [
    "# Question 62: Find lowest sales sub-category\n",
    "df.groupby('Sub-Category')['Sales'].sum().idxmin()"
   ]
  },
  {
   "cell_type": "code",
   "execution_count": 70,
   "metadata": {},
   "outputs": [
    {
     "data": {
      "text/plain": [
       "'Copiers'"
      ]
     },
     "execution_count": 70,
     "metadata": {},
     "output_type": "execute_result"
    }
   ],
   "source": [
    "#Question 63: Find highest profit sub-category.\n",
    "df.groupby('Sub-Category')['Profit'].sum().idxmax()\n"
   ]
  },
  {
   "cell_type": "code",
   "execution_count": 71,
   "metadata": {},
   "outputs": [
    {
     "data": {
      "text/plain": [
       "'Tables'"
      ]
     },
     "execution_count": 71,
     "metadata": {},
     "output_type": "execute_result"
    }
   ],
   "source": [
    "#Question 64: Find lowest profit sub-category.\n",
    "df.groupby('Sub-Category')['Profit'].sum().idxmin()"
   ]
  },
  {
   "cell_type": "code",
   "execution_count": 72,
   "metadata": {},
   "outputs": [
    {
     "data": {
      "text/plain": [
       "Product Name\n",
       "\"While you Were Out\" Message Book, One Form per Page                                         10.3880\n",
       "#10 Gummed Flap White Envelopes, 100/Box                                                     16.7678\n",
       "#10 Self-Seal White Envelopes                                                                52.1230\n",
       "#10 White Business Envelopes,4 1/8 x 9 1/2                                                  223.1408\n",
       "#10- 4 1/8\" x 9 1/2\" Recycled Envelopes                                                     115.2806\n",
       "#10- 4 1/8\" x 9 1/2\" Security-Tint Envelopes                                                 64.8636\n",
       "#10-4 1/8\" x 9 1/2\" Premium Diagonal Seam Envelopes                                          63.7470\n",
       "#6 3/4 Gummed Flap White Envelopes                                                           24.9480\n",
       "1.7 Cubic Foot Compact \"Cube\" Office Refrigerators                                          578.6848\n",
       "1/4 Fold Party Design Invitations & White Envelopes, 24 8-1/2\" X 11\" Cards, 25 Env./Pack     22.7115\n",
       "Name: Profit, dtype: float64"
      ]
     },
     "execution_count": 72,
     "metadata": {},
     "output_type": "execute_result"
    }
   ],
   "source": [
    "#Question 65: Find top 10 profitable products.\n",
    "Top_10=df.groupby('Product Name')['Profit'].sum()\n",
    "Top_10.head(10)"
   ]
  },
  {
   "cell_type": "code",
   "execution_count": 73,
   "metadata": {},
   "outputs": [
    {
     "data": {
      "text/plain": [
       "Product Name\n",
       "Cubify CubeX 3D Printer Double Head Print                           -8879.9704\n",
       "Lexmark MX611dhe Monochrome Laser Printer                           -4589.9730\n",
       "Cubify CubeX 3D Printer Triple Head Print                           -3839.9904\n",
       "Chromcraft Bull-Nose Wood Oval Conference Tables & Bases            -2876.1156\n",
       "Bush Advantage Collection Racetrack Conference Table                -1934.3976\n",
       "GBC DocuBind P400 Electric Binding System                           -1878.1662\n",
       "Cisco TelePresence System EX90 Videoconferencing Unit               -1811.0784\n",
       "Martin Yale Chadless Opener Electric Letter Opener                  -1299.1836\n",
       "Balt Solid Wood Round Tables                                        -1201.0581\n",
       "BoxOffice By Design Rectangular and Half-Moon Meeting Room Tables   -1148.4375\n",
       "Name: Profit, dtype: float64"
      ]
     },
     "execution_count": 73,
     "metadata": {},
     "output_type": "execute_result"
    }
   ],
   "source": [
    "# Question 66: Find top 10 least profitable products.\n",
    "df.groupby(\"Product Name\")[\"Profit\"].sum().sort_values(ascending=True).head(10)\n",
    "\n"
   ]
  },
  {
   "cell_type": "code",
   "execution_count": 74,
   "metadata": {},
   "outputs": [
    {
     "data": {
      "text/plain": [
       "Product Name\n",
       "Canon imageCLASS 2200 Advanced Copier                                          61599.824\n",
       "Fellowes PB500 Electric Punch Plastic Comb Binding Machine with Manual Bind    27453.384\n",
       "Cisco TelePresence System EX90 Videoconferencing Unit                          22638.480\n",
       "HON 5400 Series Task Chairs for Big and Tall                                   21870.576\n",
       "GBC DocuBind TL300 Electric Binding System                                     19823.479\n",
       "GBC Ibimaster 500 Manual ProClick Binding System                               19024.500\n",
       "Hewlett Packard LaserJet 3310 Copier                                           18839.686\n",
       "HP Designjet T520 Inkjet Large Format Printer - 24\" Color                      18374.895\n",
       "GBC DocuBind P400 Electric Binding System                                      17965.068\n",
       "High Speed Automatic Electric Letter Opener                                    17030.312\n",
       "Name: Sales, dtype: float64"
      ]
     },
     "execution_count": 74,
     "metadata": {},
     "output_type": "execute_result"
    }
   ],
   "source": [
    "# Question 67: Find top 10 best-selling products by sales.\n",
    "df.groupby(\"Product Name\")[\"Sales\"].sum().sort_values(ascending=False).head(10)"
   ]
  },
  {
   "cell_type": "code",
   "execution_count": 75,
   "metadata": {},
   "outputs": [
    {
     "data": {
      "text/plain": [
       "Product Name\n",
       "Staples                                                       215\n",
       "Staple envelope                                               170\n",
       "Easy-staple paper                                             150\n",
       "Staples in misc. colors                                        86\n",
       "KI Adjustable-Height Table                                     74\n",
       "Storex Dura Pro Binders                                        71\n",
       "Avery Non-Stick Binders                                        71\n",
       "GBC Premium Transparent Covers with Diagonal Lined Pattern     67\n",
       "Situations Contoured Folding Chairs, 4/Set                     64\n",
       "Staple-based wall hangings                                     62\n",
       "Name: Quantity, dtype: int64"
      ]
     },
     "execution_count": 75,
     "metadata": {},
     "output_type": "execute_result"
    }
   ],
   "source": [
    "# Question 68: Find top 10 best-selling products by quantity.\n",
    "df.groupby(\"Product Name\")[\"Quantity\"].sum().sort_values(ascending=False).head(10)"
   ]
  },
  {
   "cell_type": "code",
   "execution_count": 76,
   "metadata": {},
   "outputs": [
    {
     "data": {
      "text/plain": [
       "Product Name\n",
       "Eureka Disposable Bags for Sanitaire Vibra Groomer I Upright Vac    1.624\n",
       "Avery 5                                                             5.760\n",
       "Xerox 20                                                            6.480\n",
       "Grip Seal Envelopes                                                 7.072\n",
       "Avery Hi-Liter Pen Style Six-Color Fluorescent Set                  7.700\n",
       "Avery Hi-Liter Comfort Grip Fluorescent Highlighter, Yellow Ink     7.800\n",
       "Xerox 1989                                                          7.968\n",
       "4009 Highlighters                                                   8.040\n",
       "Stockwell Gold Paper Clips                                          8.096\n",
       "Newell 308                                                          8.400\n",
       "Name: Sales, dtype: float64"
      ]
     },
     "execution_count": 76,
     "metadata": {},
     "output_type": "execute_result"
    }
   ],
   "source": [
    "# Question 69: Find bottom 10 products by sales.\n",
    "df.groupby(\"Product Name\")[\"Sales\"].sum().sort_values(ascending=True).head(10)"
   ]
  },
  {
   "cell_type": "code",
   "execution_count": 77,
   "metadata": {},
   "outputs": [
    {
     "data": {
      "text/plain": [
       "Product Name\n",
       "BoxOffice By Design Rectangular and Half-Moon Meeting Room Tables   -1148.4375\n",
       "Balt Solid Wood Round Tables                                        -1201.0581\n",
       "Martin Yale Chadless Opener Electric Letter Opener                  -1299.1836\n",
       "Cisco TelePresence System EX90 Videoconferencing Unit               -1811.0784\n",
       "GBC DocuBind P400 Electric Binding System                           -1878.1662\n",
       "Bush Advantage Collection Racetrack Conference Table                -1934.3976\n",
       "Chromcraft Bull-Nose Wood Oval Conference Tables & Bases            -2876.1156\n",
       "Cubify CubeX 3D Printer Triple Head Print                           -3839.9904\n",
       "Lexmark MX611dhe Monochrome Laser Printer                           -4589.9730\n",
       "Cubify CubeX 3D Printer Double Head Print                           -8879.9704\n",
       "Name: Profit, dtype: float64"
      ]
     },
     "execution_count": 77,
     "metadata": {},
     "output_type": "execute_result"
    }
   ],
   "source": [
    "# Question 70: Find bottom 10 products by profit.\n",
    "df.groupby(\"Product Name\")[\"Profit\"].sum().sort_values(ascending=False).tail(10)"
   ]
  },
  {
   "cell_type": "code",
   "execution_count": 78,
   "metadata": {},
   "outputs": [
    {
     "data": {
      "text/plain": [
       "Order Date\n",
       "2014    484247.4981\n",
       "2015    470532.5090\n",
       "2016    609205.5980\n",
       "2017    733215.2552\n",
       "Name: Sales, dtype: float64"
      ]
     },
     "execution_count": 78,
     "metadata": {},
     "output_type": "execute_result"
    }
   ],
   "source": [
    "# Question 71: Find total sales by year.\n",
    "df.groupby(df['Order Date'].dt.year)['Sales'].sum()"
   ]
  },
  {
   "cell_type": "code",
   "execution_count": 79,
   "metadata": {},
   "outputs": [
    {
     "data": {
      "text/plain": [
       "Order Date\n",
       "2014    49543.9741\n",
       "2015    61618.6037\n",
       "2016    81795.1743\n",
       "2017    93439.2696\n",
       "Name: Profit, dtype: float64"
      ]
     },
     "execution_count": 79,
     "metadata": {},
     "output_type": "execute_result"
    }
   ],
   "source": [
    "# Question 72: Find total profit by year.\n",
    "df.groupby(df['Order Date'].dt.year)['Profit'].sum()"
   ]
  },
  {
   "cell_type": "code",
   "execution_count": 80,
   "metadata": {},
   "outputs": [
    {
     "data": {
      "text/plain": [
       "Order Date\n",
       "1    359681.5758\n",
       "2    445509.6196\n",
       "3    613932.1057\n",
       "4    878077.5592\n",
       "Name: Sales, dtype: float64"
      ]
     },
     "execution_count": 80,
     "metadata": {},
     "output_type": "execute_result"
    }
   ],
   "source": [
    "# Question 75: Find sales by quarter.\n",
    "df.groupby(df['Order Date'].dt.quarter)['Sales'].sum()"
   ]
  },
  {
   "cell_type": "code",
   "execution_count": 81,
   "metadata": {},
   "outputs": [
    {
     "data": {
      "text/plain": [
       "Order Date\n",
       "1     48023.7440\n",
       "2     55284.5395\n",
       "3     72467.0785\n",
       "4    110621.6597\n",
       "Name: Profit, dtype: float64"
      ]
     },
     "execution_count": 81,
     "metadata": {},
     "output_type": "execute_result"
    }
   ],
   "source": [
    "# Question 76: Find profit by quarter.\n",
    "df.groupby(df['Order Date'].dt.quarter)['Profit'].sum()"
   ]
  },
  {
   "cell_type": "code",
   "execution_count": 82,
   "metadata": {},
   "outputs": [
    {
     "data": {
      "text/plain": [
       "Order Date\n",
       "April        137762.1286\n",
       "August       159044.0630\n",
       "December     325293.5035\n",
       "February      59751.2514\n",
       "January       94924.8356\n",
       "July         147238.0970\n",
       "June         152718.6793\n",
       "March        205005.4888\n",
       "May          155028.8117\n",
       "November     352461.0710\n",
       "October      200322.9847\n",
       "September    307649.9457\n",
       "Name: Sales, dtype: float64"
      ]
     },
     "execution_count": 82,
     "metadata": {},
     "output_type": "execute_result"
    }
   ],
   "source": [
    "# Question 77: Find sales by month.\n",
    "df.groupby(df['Order Date'].dt.month_name())['Sales'].sum()"
   ]
  },
  {
   "cell_type": "code",
   "execution_count": 83,
   "metadata": {},
   "outputs": [
    {
     "data": {
      "text/plain": [
       "Order Date\n",
       "April        11587.4363\n",
       "August       21776.9384\n",
       "December     43369.1919\n",
       "February     10294.6107\n",
       "January       9134.4461\n",
       "July         13832.6648\n",
       "June         21285.7954\n",
       "March        28594.6872\n",
       "May          22411.3078\n",
       "November     35468.4265\n",
       "October      31784.0413\n",
       "September    36857.4753\n",
       "Name: Profit, dtype: float64"
      ]
     },
     "execution_count": 83,
     "metadata": {},
     "output_type": "execute_result"
    }
   ],
   "source": [
    "# Question 78: Find profit by month.\n",
    "df.groupby(df['Order Date'].dt.month_name())['Profit'].sum()"
   ]
  },
  {
   "cell_type": "code",
   "execution_count": 84,
   "metadata": {},
   "outputs": [
    {
     "data": {
      "text/plain": [
       "'November'"
      ]
     },
     "execution_count": 84,
     "metadata": {},
     "output_type": "execute_result"
    }
   ],
   "source": [
    "# Question 79: Find month with highest sales.\n",
    "df.groupby(df['Order Date'].dt.month_name())['Sales'].sum().idxmax()"
   ]
  },
  {
   "cell_type": "code",
   "execution_count": 85,
   "metadata": {},
   "outputs": [
    {
     "data": {
      "text/plain": [
       "'December'"
      ]
     },
     "execution_count": 85,
     "metadata": {},
     "output_type": "execute_result"
    }
   ],
   "source": [
    "# Question 80: Find month with highest profit.\n",
    "df.groupby(df['Order Date'].dt.month_name())['Profit'].sum().idxmax()"
   ]
  },
  {
   "cell_type": "code",
   "execution_count": 86,
   "metadata": {},
   "outputs": [
    {
     "data": {
      "text/plain": [
       "'February'"
      ]
     },
     "execution_count": 86,
     "metadata": {},
     "output_type": "execute_result"
    }
   ],
   "source": [
    "# Question 81: Find month with lowest sales.\n",
    "df.groupby(df['Order Date'].dt.month_name())['Sales'].sum().idxmin()"
   ]
  },
  {
   "cell_type": "code",
   "execution_count": 87,
   "metadata": {},
   "outputs": [
    {
     "data": {
      "text/plain": [
       "'January'"
      ]
     },
     "execution_count": 87,
     "metadata": {},
     "output_type": "execute_result"
    }
   ],
   "source": [
    "# Question 82: Find month with lowest profit.\n",
    "df.groupby(df['Order Date'].dt.month_name())['Profit'].sum().idxmin()"
   ]
  },
  {
   "cell_type": "code",
   "execution_count": 88,
   "metadata": {},
   "outputs": [
    {
     "data": {
      "text/plain": [
       "Order Date\n",
       "0    428937.8157\n",
       "1    287209.5022\n",
       "2     88056.9752\n",
       "3    321965.7785\n",
       "4    427692.2593\n",
       "5    357984.6830\n",
       "6    385353.8464\n",
       "Name: Sales, dtype: float64"
      ]
     },
     "execution_count": 88,
     "metadata": {},
     "output_type": "execute_result"
    }
   ],
   "source": [
    "# Question 83: Find total sales by weekday.\n",
    "df.groupby(df[\"Order Date\"].dt.weekday)['Sales'].sum()"
   ]
  },
  {
   "cell_type": "code",
   "execution_count": 89,
   "metadata": {},
   "outputs": [
    {
     "data": {
      "text/plain": [
       "Order Date\n",
       "0    51511.1146\n",
       "1    35570.3288\n",
       "2    14703.8707\n",
       "3    39683.7512\n",
       "4    46520.8242\n",
       "5    41277.6202\n",
       "6    57129.5120\n",
       "Name: Profit, dtype: float64"
      ]
     },
     "execution_count": 89,
     "metadata": {},
     "output_type": "execute_result"
    }
   ],
   "source": [
    "# Question 84: Find total profit by weekday.\n",
    "df.groupby(df[\"Order Date\"].dt.weekday)['Profit'].sum()"
   ]
  },
  {
   "cell_type": "code",
   "execution_count": 90,
   "metadata": {},
   "outputs": [
    {
     "data": {
      "text/plain": [
       "'Monday'"
      ]
     },
     "execution_count": 90,
     "metadata": {},
     "output_type": "execute_result"
    }
   ],
   "source": [
    "# Question 85: Find weekday with highest sales.\n",
    "df.groupby(df[\"Order Date\"].dt.day_name())['Sales'].sum().idxmax()"
   ]
  },
  {
   "cell_type": "code",
   "execution_count": 91,
   "metadata": {},
   "outputs": [
    {
     "data": {
      "text/plain": [
       "'Wednesday'"
      ]
     },
     "execution_count": 91,
     "metadata": {},
     "output_type": "execute_result"
    }
   ],
   "source": [
    "# Question 86: Find weekday with lowest sales.\n",
    "df.groupby(df[\"Order Date\"].dt.day_name())['Sales'].sum().idxmin()"
   ]
  },
  {
   "cell_type": "code",
   "execution_count": 92,
   "metadata": {},
   "outputs": [
    {
     "data": {
      "text/plain": [
       "'Sunday'"
      ]
     },
     "execution_count": 92,
     "metadata": {},
     "output_type": "execute_result"
    }
   ],
   "source": [
    "# Question 87: Find weekday with highest profit.\n",
    "df.groupby(df[\"Order Date\"].dt.day_name())['Profit'].sum().idxmax()"
   ]
  },
  {
   "cell_type": "code",
   "execution_count": 93,
   "metadata": {},
   "outputs": [
    {
     "data": {
      "text/plain": [
       "'Wednesday'"
      ]
     },
     "execution_count": 93,
     "metadata": {},
     "output_type": "execute_result"
    }
   ],
   "source": [
    "# Question 88: Find weekday with lowest profit.\n",
    "df.groupby(df[\"Order Date\"].dt.day_name())['Profit'].sum().idxmin()"
   ]
  },
  {
   "cell_type": "code",
   "execution_count": 94,
   "metadata": {},
   "outputs": [
    {
     "data": {
      "text/plain": [
       "'California'"
      ]
     },
     "execution_count": 94,
     "metadata": {},
     "output_type": "execute_result"
    }
   ],
   "source": [
    "# Question 89: Find state with highest sales.\n",
    "df.groupby(\"State\")[\"Sales\"].sum().idxmax()"
   ]
  },
  {
   "cell_type": "code",
   "execution_count": 95,
   "metadata": {},
   "outputs": [
    {
     "data": {
      "text/plain": [
       "'California'"
      ]
     },
     "execution_count": 95,
     "metadata": {},
     "output_type": "execute_result"
    }
   ],
   "source": [
    "# Question 90: Find state with highest profit.\n",
    "df.groupby(\"State\")[\"Profit\"].sum().idxmax()"
   ]
  },
  {
   "cell_type": "code",
   "execution_count": 96,
   "metadata": {},
   "outputs": [
    {
     "data": {
      "text/plain": [
       "'North Dakota'"
      ]
     },
     "execution_count": 96,
     "metadata": {},
     "output_type": "execute_result"
    }
   ],
   "source": [
    "# Question 91: Find state with lowest sales.\n",
    "df.groupby(\"State\")[\"Sales\"].sum().idxmin()"
   ]
  },
  {
   "cell_type": "code",
   "execution_count": 97,
   "metadata": {},
   "outputs": [
    {
     "data": {
      "text/plain": [
       "'Texas'"
      ]
     },
     "execution_count": 97,
     "metadata": {},
     "output_type": "execute_result"
    }
   ],
   "source": [
    "# Question 92: Find state with lowest profit.\n",
    "df.groupby(\"State\")[\"Profit\"].sum().idxmin()"
   ]
  },
  {
   "cell_type": "code",
   "execution_count": 98,
   "metadata": {},
   "outputs": [
    {
     "data": {
      "text/plain": [
       "'West'"
      ]
     },
     "execution_count": 98,
     "metadata": {},
     "output_type": "execute_result"
    }
   ],
   "source": [
    "# Question 93: Find region with highest sales.\n",
    "df.groupby(\"Region\")[\"Sales\"].sum().idxmax()"
   ]
  },
  {
   "cell_type": "code",
   "execution_count": 99,
   "metadata": {},
   "outputs": [
    {
     "data": {
      "text/plain": [
       "'West'"
      ]
     },
     "execution_count": 99,
     "metadata": {},
     "output_type": "execute_result"
    }
   ],
   "source": [
    "# Question 94: Find region with highest profit.\n",
    "df.groupby(\"Region\")[\"Profit\"].sum().idxmax()"
   ]
  },
  {
   "cell_type": "code",
   "execution_count": 100,
   "metadata": {},
   "outputs": [
    {
     "data": {
      "text/plain": [
       "'South'"
      ]
     },
     "execution_count": 100,
     "metadata": {},
     "output_type": "execute_result"
    }
   ],
   "source": [
    "# Question 95: Find region with lowest sales.\n",
    "df.groupby(\"Region\")[\"Sales\"].sum().idxmin()"
   ]
  },
  {
   "cell_type": "code",
   "execution_count": 101,
   "metadata": {},
   "outputs": [
    {
     "data": {
      "text/plain": [
       "'Central'"
      ]
     },
     "execution_count": 101,
     "metadata": {},
     "output_type": "execute_result"
    }
   ],
   "source": [
    "# Question 96: Find region with lowest profit.\n",
    "df.groupby(\"Region\")[\"Profit\"].sum().idxmin()"
   ]
  },
  {
   "cell_type": "code",
   "execution_count": 102,
   "metadata": {},
   "outputs": [
    {
     "data": {
      "text/plain": [
       "np.float64(0.15620272163297977)"
      ]
     },
     "execution_count": 102,
     "metadata": {},
     "output_type": "execute_result"
    }
   ],
   "source": [
    "# Question 97: Find average discount overall.\n",
    "df[\"Discount\"].mean()"
   ]
  },
  {
   "cell_type": "code",
   "execution_count": 103,
   "metadata": {},
   "outputs": [
    {
     "data": {
      "text/plain": [
       "Category\n",
       "Furniture          0.173923\n",
       "Office Supplies    0.157285\n",
       "Technology         0.132323\n",
       "Name: Discount, dtype: float64"
      ]
     },
     "execution_count": 103,
     "metadata": {},
     "output_type": "execute_result"
    }
   ],
   "source": [
    "# Question 98: Find average discount in each category.\n",
    "df.groupby(\"Category\")[\"Discount\"].mean()"
   ]
  },
  {
   "cell_type": "code",
   "execution_count": 104,
   "metadata": {},
   "outputs": [
    {
     "data": {
      "text/plain": [
       "Sub-Category\n",
       "Accessories    0.078452\n",
       "Appliances     0.166524\n",
       "Art            0.074874\n",
       "Binders        0.372292\n",
       "Bookcases      0.211140\n",
       "Chairs         0.170178\n",
       "Copiers        0.161765\n",
       "Envelopes      0.080315\n",
       "Fasteners      0.082028\n",
       "Furnishings    0.138349\n",
       "Labels         0.068681\n",
       "Machines       0.306087\n",
       "Paper          0.074891\n",
       "Phones         0.154556\n",
       "Storage        0.074704\n",
       "Supplies       0.076842\n",
       "Tables         0.261285\n",
       "Name: Discount, dtype: float64"
      ]
     },
     "execution_count": 104,
     "metadata": {},
     "output_type": "execute_result"
    }
   ],
   "source": [
    "# Question 99: Find average discount in each sub-category.\n",
    "df.groupby(\"Sub-Category\")[\"Discount\"].mean()"
   ]
  },
  {
   "cell_type": "code",
   "execution_count": 105,
   "metadata": {},
   "outputs": [
    {
     "data": {
      "text/html": [
       "<div>\n",
       "<style scoped>\n",
       "    .dataframe tbody tr th:only-of-type {\n",
       "        vertical-align: middle;\n",
       "    }\n",
       "\n",
       "    .dataframe tbody tr th {\n",
       "        vertical-align: top;\n",
       "    }\n",
       "\n",
       "    .dataframe thead th {\n",
       "        text-align: right;\n",
       "    }\n",
       "</style>\n",
       "<table border=\"1\" class=\"dataframe\">\n",
       "  <thead>\n",
       "    <tr style=\"text-align: right;\">\n",
       "      <th></th>\n",
       "      <th>Sales</th>\n",
       "      <th>Profit</th>\n",
       "    </tr>\n",
       "    <tr>\n",
       "      <th>Region</th>\n",
       "      <th></th>\n",
       "      <th></th>\n",
       "    </tr>\n",
       "  </thead>\n",
       "  <tbody>\n",
       "    <tr>\n",
       "      <th>Central</th>\n",
       "      <td>501239.8908</td>\n",
       "      <td>39706.3625</td>\n",
       "    </tr>\n",
       "    <tr>\n",
       "      <th>East</th>\n",
       "      <td>678781.2400</td>\n",
       "      <td>91522.7800</td>\n",
       "    </tr>\n",
       "    <tr>\n",
       "      <th>South</th>\n",
       "      <td>391721.9050</td>\n",
       "      <td>46749.4303</td>\n",
       "    </tr>\n",
       "    <tr>\n",
       "      <th>West</th>\n",
       "      <td>725457.8245</td>\n",
       "      <td>108418.4489</td>\n",
       "    </tr>\n",
       "  </tbody>\n",
       "</table>\n",
       "</div>"
      ],
      "text/plain": [
       "               Sales       Profit\n",
       "Region                           \n",
       "Central  501239.8908   39706.3625\n",
       "East     678781.2400   91522.7800\n",
       "South    391721.9050   46749.4303\n",
       "West     725457.8245  108418.4489"
      ]
     },
     "execution_count": 105,
     "metadata": {},
     "output_type": "execute_result"
    }
   ],
   "source": [
    "# Question 100: Compare total sales vs profit across regions.\n",
    "df.groupby('Region')[['Sales', 'Profit']].sum()"
   ]
  },
  {
   "cell_type": "code",
   "execution_count": 106,
   "metadata": {},
   "outputs": [
    {
     "data": {
      "text/plain": [
       "Region\n",
       "Central    629\n",
       "East       674\n",
       "South      512\n",
       "West       686\n",
       "Name: Customer ID, dtype: int64"
      ]
     },
     "execution_count": 106,
     "metadata": {},
     "output_type": "execute_result"
    }
   ],
   "source": [
    "# Question 101: Count customers in each region.\n",
    "df.groupby(\"Region\")[\"Customer ID\"].nunique()"
   ]
  },
  {
   "cell_type": "code",
   "execution_count": 107,
   "metadata": {},
   "outputs": [
    {
     "data": {
      "text/plain": [
       "State\n",
       "Alabama                  34\n",
       "Arizona                 100\n",
       "Arkansas                 27\n",
       "California              577\n",
       "Colorado                 75\n",
       "Connecticut              43\n",
       "Delaware                 43\n",
       "District of Columbia      4\n",
       "Florida                 181\n",
       "Georgia                  83\n",
       "Idaho                    11\n",
       "Illinois                237\n",
       "Indiana                  70\n",
       "Iowa                     17\n",
       "Kansas                   14\n",
       "Kentucky                 58\n",
       "Louisiana                21\n",
       "Maine                     3\n",
       "Maryland                 45\n",
       "Massachusetts            62\n",
       "Michigan                106\n",
       "Minnesota                42\n",
       "Mississippi              25\n",
       "Missouri                 28\n",
       "Montana                   8\n",
       "Nebraska                 23\n",
       "Nevada                   23\n",
       "New Hampshire            17\n",
       "New Jersey               61\n",
       "New Mexico               22\n",
       "New York                415\n",
       "North Carolina          122\n",
       "North Dakota              2\n",
       "Ohio                    202\n",
       "Oklahoma                 34\n",
       "Oregon                   51\n",
       "Pennsylvania            257\n",
       "Rhode Island             25\n",
       "South Carolina           19\n",
       "South Dakota              5\n",
       "Tennessee                84\n",
       "Texas                   370\n",
       "Utah                     26\n",
       "Vermont                   5\n",
       "Virginia                107\n",
       "Washington              224\n",
       "West Virginia             2\n",
       "Wisconsin                52\n",
       "Wyoming                   1\n",
       "Name: Customer ID, dtype: int64"
      ]
     },
     "execution_count": 107,
     "metadata": {},
     "output_type": "execute_result"
    }
   ],
   "source": [
    "# Question 102: Count customers in each state.\n",
    "df.groupby(\"State\")[\"Customer ID\"].nunique()"
   ]
  },
  {
   "cell_type": "code",
   "execution_count": 108,
   "metadata": {},
   "outputs": [
    {
     "data": {
      "text/plain": [
       "City\n",
       "Aberdeen        1\n",
       "Abilene         1\n",
       "Akron          10\n",
       "Albuquerque     7\n",
       "Alexandria      6\n",
       "               ..\n",
       "Woonsocket      3\n",
       "Yonkers         6\n",
       "York            2\n",
       "Yucaipa         1\n",
       "Yuma            4\n",
       "Name: Customer ID, Length: 531, dtype: int64"
      ]
     },
     "execution_count": 108,
     "metadata": {},
     "output_type": "execute_result"
    }
   ],
   "source": [
    "# Question 103: Count customers in each city.\n",
    "df.groupby(\"City\")[\"Customer ID\"].nunique()"
   ]
  },
  {
   "cell_type": "code",
   "execution_count": 109,
   "metadata": {},
   "outputs": [
    {
     "data": {
      "text/plain": [
       "Customer ID\n",
       "AA-10315    5563.560\n",
       "AA-10375    1056.390\n",
       "AA-10480    1790.512\n",
       "AA-10645    5086.935\n",
       "AB-10015     886.156\n",
       "              ...   \n",
       "XP-21865    2374.658\n",
       "YC-21895    5454.350\n",
       "YS-21880    6720.444\n",
       "ZC-21910    8025.707\n",
       "ZD-21925    1493.944\n",
       "Name: Sales, Length: 793, dtype: float64"
      ]
     },
     "execution_count": 109,
     "metadata": {},
     "output_type": "execute_result"
    }
   ],
   "source": [
    "# Question 104: Find total sales by customer.\n",
    "df.groupby(\"Customer ID\")[\"Sales\"].sum()"
   ]
  },
  {
   "cell_type": "code",
   "execution_count": 110,
   "metadata": {},
   "outputs": [
    {
     "data": {
      "text/plain": [
       "Customer ID\n",
       "AA-10315    -362.8825\n",
       "AA-10375     277.3824\n",
       "AA-10480     435.8274\n",
       "AA-10645     857.8033\n",
       "AB-10015     129.3465\n",
       "              ...    \n",
       "XP-21865     621.2300\n",
       "YC-21895    1305.6290\n",
       "YS-21880    1778.2923\n",
       "ZC-21910   -1032.1490\n",
       "ZD-21925     249.1307\n",
       "Name: Profit, Length: 793, dtype: float64"
      ]
     },
     "execution_count": 110,
     "metadata": {},
     "output_type": "execute_result"
    }
   ],
   "source": [
    "# Question 105: Find total profit by customer.\n",
    "df.groupby(\"Customer ID\")[\"Profit\"].sum()"
   ]
  },
  {
   "cell_type": "code",
   "execution_count": 111,
   "metadata": {},
   "outputs": [
    {
     "data": {
      "text/plain": [
       "Customer ID\n",
       "AA-10315    505.778182\n",
       "AA-10375     70.426000\n",
       "AA-10480    149.209333\n",
       "AA-10645    282.607500\n",
       "AB-10015    147.692667\n",
       "               ...    \n",
       "XP-21865     84.809214\n",
       "YC-21895    681.793750\n",
       "YS-21880    560.037000\n",
       "ZC-21910    258.893774\n",
       "ZD-21925    165.993778\n",
       "Name: Sales, Length: 793, dtype: float64"
      ]
     },
     "execution_count": 111,
     "metadata": {},
     "output_type": "execute_result"
    }
   ],
   "source": [
    "# Question 106: Find average sales per customer.\n",
    "df.groupby(\"Customer ID\")[\"Sales\"].mean()"
   ]
  },
  {
   "cell_type": "code",
   "execution_count": 112,
   "metadata": {},
   "outputs": [
    {
     "data": {
      "text/plain": [
       "Customer ID\n",
       "AA-10315    -32.989318\n",
       "AA-10375     18.492160\n",
       "AA-10480     36.318950\n",
       "AA-10645     47.655739\n",
       "AB-10015     21.557750\n",
       "               ...    \n",
       "XP-21865     22.186786\n",
       "YC-21895    163.203625\n",
       "YS-21880    148.191025\n",
       "ZC-21910    -33.295129\n",
       "ZD-21925     27.681189\n",
       "Name: Profit, Length: 793, dtype: float64"
      ]
     },
     "execution_count": 112,
     "metadata": {},
     "output_type": "execute_result"
    }
   ],
   "source": [
    "# Question 107: Find average profit per customer.\n",
    "df.groupby(\"Customer ID\")[\"Profit\"].mean()"
   ]
  },
  {
   "cell_type": "code",
   "execution_count": 113,
   "metadata": {},
   "outputs": [
    {
     "data": {
      "text/plain": [
       "'Sean Miller'"
      ]
     },
     "execution_count": 113,
     "metadata": {},
     "output_type": "execute_result"
    }
   ],
   "source": [
    "# Question 108: Find customer with highest sales.\n",
    "df.groupby(\"Customer Name\")[\"Sales\"].sum().idxmax()"
   ]
  },
  {
   "cell_type": "code",
   "execution_count": 114,
   "metadata": {},
   "outputs": [
    {
     "data": {
      "text/plain": [
       "'Tamara Chand'"
      ]
     },
     "execution_count": 114,
     "metadata": {},
     "output_type": "execute_result"
    }
   ],
   "source": [
    "# Question 109: Find customer with highest profit.\n",
    "df.groupby(\"Customer Name\")[\"Profit\"].sum().idxmax()"
   ]
  },
  {
   "cell_type": "code",
   "execution_count": 115,
   "metadata": {},
   "outputs": [
    {
     "data": {
      "text/plain": [
       "'Thais Sissman'"
      ]
     },
     "execution_count": 115,
     "metadata": {},
     "output_type": "execute_result"
    }
   ],
   "source": [
    "# Question 110: Find customer with lowest sales.\n",
    "df.groupby(\"Customer Name\")[\"Sales\"].sum().idxmin()"
   ]
  },
  {
   "cell_type": "code",
   "execution_count": 116,
   "metadata": {},
   "outputs": [
    {
     "data": {
      "text/plain": [
       "'Cindy Stewart'"
      ]
     },
     "execution_count": 116,
     "metadata": {},
     "output_type": "execute_result"
    }
   ],
   "source": [
    "# Question 111: Find customer with lowest profit.\n",
    "df.groupby(\"Customer Name\")[\"Profit\"].sum().idxmin()"
   ]
  },
  {
   "cell_type": "code",
   "execution_count": 117,
   "metadata": {},
   "outputs": [
    {
     "data": {
      "text/plain": [
       "Customer Name\n",
       "Aaron Smayling      -253.5746\n",
       "Adrian Hane           -2.3146\n",
       "Alan Haines         -378.5509\n",
       "Alex Avila          -362.8825\n",
       "Alex Grayson          -5.1371\n",
       "                      ...    \n",
       "Victoria Pisteka   -1018.7768\n",
       "Victoria Wilson     -874.6645\n",
       "Vivek Grady          -52.3330\n",
       "Vivek Sundaresam    -262.8093\n",
       "Zuschuss Carroll   -1032.1490\n",
       "Name: Profit, Length: 155, dtype: float64"
      ]
     },
     "execution_count": 117,
     "metadata": {},
     "output_type": "execute_result"
    }
   ],
   "source": [
    "# Question 112: Find customers with negative profit.\n",
    "df.groupby('Customer Name')['Profit'].sum().loc[lambda x: x < 0]"
   ]
  },
  {
   "cell_type": "code",
   "execution_count": 118,
   "metadata": {},
   "outputs": [
    {
     "data": {
      "text/plain": [
       "Customer Name\n",
       "William Brown          37\n",
       "Matt Abelman           34\n",
       "John Lee               34\n",
       "Paul Prost             34\n",
       "Chloris Kastensmidt    32\n",
       "                       ..\n",
       "Carl Weiss             11\n",
       "Joni Wasserman         11\n",
       "Toby Braunhardt        11\n",
       "Hunter Lopez           11\n",
       "Rob Haberlin           11\n",
       "Name: count, Length: 462, dtype: int64"
      ]
     },
     "execution_count": 118,
     "metadata": {},
     "output_type": "execute_result"
    }
   ],
   "source": [
    "# Question 113: Find customers with > 10 orders.\n",
    "df[\"Customer Name\"].value_counts().loc[lambda x: x >10]"
   ]
  },
  {
   "cell_type": "code",
   "execution_count": 119,
   "metadata": {},
   "outputs": [
    {
     "data": {
      "text/plain": [
       "Customer Name\n",
       "Anthony O'Donnell    1\n",
       "Lela Donovan         1\n",
       "Jocasta Rupert       1\n",
       "Carl Jackson         1\n",
       "Ricardo Emerson      1\n",
       "Name: count, dtype: int64"
      ]
     },
     "execution_count": 119,
     "metadata": {},
     "output_type": "execute_result"
    }
   ],
   "source": [
    "# Question 114: Find customers with < 2 orders\n",
    "df[\"Customer Name\"].value_counts().loc[lambda x: x<2]"
   ]
  },
  {
   "cell_type": "code",
   "execution_count": 120,
   "metadata": {},
   "outputs": [
    {
     "data": {
      "text/plain": [
       "Customer Name\n",
       "Aaron Bergman         2\n",
       "Aaron Hawkins         4\n",
       "Aaron Smayling        3\n",
       "Adam Bellavance       3\n",
       "Adam Hart             4\n",
       "                     ..\n",
       "Xylona Preis          4\n",
       "Yana Sorensen         2\n",
       "Yoseph Carroll        4\n",
       "Zuschuss Carroll      4\n",
       "Zuschuss Donatelli    3\n",
       "Name: Order Date, Length: 772, dtype: int64"
      ]
     },
     "execution_count": 120,
     "metadata": {},
     "output_type": "execute_result"
    }
   ],
   "source": [
    "# Question 115: Find repeat customers across multiple years.\n",
    "df.groupby('Customer Name')['Order Date'].apply(lambda x: x.dt.year.nunique()).loc[lambda x: x > 1]"
   ]
  },
  {
   "cell_type": "code",
   "execution_count": 121,
   "metadata": {},
   "outputs": [
    {
     "data": {
      "text/plain": [
       "Customer Name\n",
       "Anthony O'Donnell    1\n",
       "Lela Donovan         1\n",
       "Jocasta Rupert       1\n",
       "Carl Jackson         1\n",
       "Ricardo Emerson      1\n",
       "Name: count, dtype: int64"
      ]
     },
     "execution_count": 121,
     "metadata": {},
     "output_type": "execute_result"
    }
   ],
   "source": [
    "# Question 116: Find customers who ordered only once.\n",
    "df[\"Customer Name\"].value_counts().loc[lambda x: x == 1]"
   ]
  },
  {
   "cell_type": "code",
   "execution_count": 122,
   "metadata": {},
   "outputs": [
    {
     "data": {
      "text/plain": [
       "Segment\n",
       "Consumer       409\n",
       "Corporate      236\n",
       "Home Office    148\n",
       "Name: Customer ID, dtype: int64"
      ]
     },
     "execution_count": 122,
     "metadata": {},
     "output_type": "execute_result"
    }
   ],
   "source": [
    "# Question 117: Count customers by segment.\n",
    "df.groupby(\"Segment\")[\"Customer ID\"].nunique()"
   ]
  },
  {
   "cell_type": "code",
   "execution_count": 123,
   "metadata": {},
   "outputs": [
    {
     "data": {
      "text/plain": [
       "Segment\n",
       "Consumer       3780\n",
       "Corporate      2442\n",
       "Home Office    1535\n",
       "Name: Sales, dtype: int64"
      ]
     },
     "execution_count": 123,
     "metadata": {},
     "output_type": "execute_result"
    }
   ],
   "source": [
    "# Question 118: Find sales by segment.\n",
    "df.groupby(\"Segment\")[\"Sales\"].nunique()"
   ]
  },
  {
   "cell_type": "code",
   "execution_count": 124,
   "metadata": {},
   "outputs": [
    {
     "data": {
      "text/plain": [
       "Segment\n",
       "Consumer       4366\n",
       "Corporate      2675\n",
       "Home Office    1620\n",
       "Name: Profit, dtype: int64"
      ]
     },
     "execution_count": 124,
     "metadata": {},
     "output_type": "execute_result"
    }
   ],
   "source": [
    "# Question 119: Find profit by segment.\n",
    "df.groupby(\"Segment\")[\"Profit\"].nunique()"
   ]
  },
  {
   "cell_type": "code",
   "execution_count": 125,
   "metadata": {},
   "outputs": [
    {
     "data": {
      "text/plain": [
       "'Consumer'"
      ]
     },
     "execution_count": 125,
     "metadata": {},
     "output_type": "execute_result"
    }
   ],
   "source": [
    "# Question 120: Find most profitable segment.\n",
    "df.groupby(\"Segment\")[\"Profit\"].nunique().idxmax()"
   ]
  },
  {
   "cell_type": "code",
   "execution_count": 126,
   "metadata": {},
   "outputs": [
    {
     "data": {
      "text/plain": [
       "'Home Office'"
      ]
     },
     "execution_count": 126,
     "metadata": {},
     "output_type": "execute_result"
    }
   ],
   "source": [
    "# Question 121: Find least profitable segment.\n",
    "df.groupby(\"Segment\")[\"Profit\"].nunique().idxmin()"
   ]
  },
  {
   "cell_type": "code",
   "execution_count": 127,
   "metadata": {},
   "outputs": [
    {
     "data": {
      "text/plain": [
       "'Consumer'"
      ]
     },
     "execution_count": 127,
     "metadata": {},
     "output_type": "execute_result"
    }
   ],
   "source": [
    "# Question 122: Find most sales-generating segment.\n",
    "df.groupby(\"Segment\")[\"Sales\"].nunique().idxmax()"
   ]
  },
  {
   "cell_type": "code",
   "execution_count": 128,
   "metadata": {},
   "outputs": [
    {
     "data": {
      "text/plain": [
       "'Home Office'"
      ]
     },
     "execution_count": 128,
     "metadata": {},
     "output_type": "execute_result"
    }
   ],
   "source": [
    "# Question 123: Find least sales-generating segment.\n",
    "df.groupby(\"Segment\")[\"Profit\"].nunique().idxmin()"
   ]
  },
  {
   "cell_type": "code",
   "execution_count": 129,
   "metadata": {},
   "outputs": [
    {
     "data": {
      "text/plain": [
       "'Corporate'"
      ]
     },
     "execution_count": 129,
     "metadata": {},
     "output_type": "execute_result"
    }
   ],
   "source": [
    "# Question 124: Find segment with highest average discount.\n",
    "df.groupby(\"Segment\")[\"Discount\"].mean().idxmax()"
   ]
  },
  {
   "cell_type": "code",
   "execution_count": 130,
   "metadata": {},
   "outputs": [
    {
     "data": {
      "text/plain": [
       "'Home Office'"
      ]
     },
     "execution_count": 130,
     "metadata": {},
     "output_type": "execute_result"
    }
   ],
   "source": [
    "# Question 125: Find segment with lowest average discount.\n",
    "df.groupby(\"Segment\")[\"Discount\"].mean().idxmin()"
   ]
  },
  {
   "cell_type": "code",
   "execution_count": 131,
   "metadata": {},
   "outputs": [],
   "source": [
    "# Question 126: Find top 5 customers by sales in each segment."
   ]
  },
  {
   "cell_type": "code",
   "execution_count": 132,
   "metadata": {},
   "outputs": [],
   "source": [
    "# Question 127: Find top 5 customers by profit in each segment."
   ]
  },
  {
   "cell_type": "code",
   "execution_count": 133,
   "metadata": {},
   "outputs": [],
   "source": [
    "# Question 128: Find top 5 loss-making customers."
   ]
  },
  {
   "cell_type": "code",
   "execution_count": 149,
   "metadata": {},
   "outputs": [
    {
     "data": {
      "text/plain": [
       "Customer ID\n",
       "AA-10315    5198\n",
       "AA-10375    2263\n",
       "AA-10480    7705\n",
       "AA-10645    8009\n",
       "AB-10015    8802\n",
       "            ... \n",
       "XP-21865    9041\n",
       "YC-21895    3070\n",
       "YS-21880    6209\n",
       "ZC-21910    5188\n",
       "ZD-21925    3814\n",
       "Name: Sales, Length: 793, dtype: int64"
      ]
     },
     "execution_count": 149,
     "metadata": {},
     "output_type": "execute_result"
    }
   ],
   "source": [
    "# Question 129: Find customers with largest order value.\n",
    "df.groupby(\"Customer ID\")['Sales'].idxmax()"
   ]
  },
  {
   "cell_type": "code",
   "execution_count": 150,
   "metadata": {},
   "outputs": [
    {
     "data": {
      "text/plain": [
       "Customer ID\n",
       "AA-10315    5199\n",
       "AA-10375    1978\n",
       "AA-10480    3109\n",
       "AA-10645    6039\n",
       "AB-10015    8222\n",
       "            ... \n",
       "XP-21865    5781\n",
       "YC-21895    2688\n",
       "YS-21880    1393\n",
       "ZC-21910    4101\n",
       "ZD-21925      18\n",
       "Name: Sales, Length: 793, dtype: int64"
      ]
     },
     "execution_count": 150,
     "metadata": {},
     "output_type": "execute_result"
    }
   ],
   "source": [
    "# Question 130: Find customers with smallest order value.\n",
    "df.groupby(\"Customer ID\")['Sales'].idxmin()"
   ]
  },
  {
   "cell_type": "code",
   "execution_count": null,
   "metadata": {},
   "outputs": [],
   "source": [
    "# Question 131: Find number of unique customers each year."
   ]
  },
  {
   "cell_type": "code",
   "execution_count": null,
   "metadata": {},
   "outputs": [],
   "source": [
    "# Question 132: Find retention rate year over year."
   ]
  },
  {
   "cell_type": "code",
   "execution_count": null,
   "metadata": {},
   "outputs": [],
   "source": [
    "# Question 133: Find churned customers (present last year, not this year)."
   ]
  },
  {
   "cell_type": "code",
   "execution_count": null,
   "metadata": {},
   "outputs": [],
   "source": [
    "# Question 134: Find new customers (present this year, not last year)."
   ]
  },
  {
   "cell_type": "code",
   "execution_count": null,
   "metadata": {},
   "outputs": [],
   "source": [
    "# Question 135: Find sales contribution of top 10 customers."
   ]
  },
  {
   "cell_type": "code",
   "execution_count": null,
   "metadata": {},
   "outputs": [],
   "source": [
    "# Question 136: Find profit contribution of top 10 customers."
   ]
  },
  {
   "cell_type": "code",
   "execution_count": null,
   "metadata": {},
   "outputs": [],
   "source": [
    "# Question 137: Find customers who purchased from all categories."
   ]
  },
  {
   "cell_type": "code",
   "execution_count": null,
   "metadata": {},
   "outputs": [],
   "source": [
    "# Question 138: Find customers who purchased only furniture."
   ]
  },
  {
   "cell_type": "code",
   "execution_count": null,
   "metadata": {},
   "outputs": [],
   "source": [
    "# Question 139: Find customers who purchased only technology."
   ]
  },
  {
   "cell_type": "code",
   "execution_count": null,
   "metadata": {},
   "outputs": [],
   "source": [
    "# Question 140: Find customers who purchased only office supplies."
   ]
  },
  {
   "cell_type": "code",
   "execution_count": null,
   "metadata": {},
   "outputs": [],
   "source": []
  }
 ],
 "metadata": {
  "kernelspec": {
   "display_name": "Python 3",
   "language": "python",
   "name": "python3"
  },
  "language_info": {
   "codemirror_mode": {
    "name": "ipython",
    "version": 3
   },
   "file_extension": ".py",
   "mimetype": "text/x-python",
   "name": "python",
   "nbconvert_exporter": "python",
   "pygments_lexer": "ipython3",
   "version": "3.13.7"
  },
  "orig_nbformat": 4
 },
 "nbformat": 4,
 "nbformat_minor": 2
}
