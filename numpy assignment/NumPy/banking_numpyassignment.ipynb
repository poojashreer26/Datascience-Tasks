{
 "cells": [
  {
   "cell_type": "code",
   "execution_count": 66,
   "id": "ccc906b9",
   "metadata": {},
   "outputs": [
    {
     "name": "stdout",
     "output_type": "stream",
     "text": [
      "Requirement already satisfied: numpy in c:\\users\\haris\\appdata\\local\\programs\\python\\python313\\lib\\site-packages (2.3.2)\n",
      "Note: you may need to restart the kernel to use updated packages.\n"
     ]
    }
   ],
   "source": [
    "pip install numpy"
   ]
  },
  {
   "cell_type": "code",
   "execution_count": 67,
   "metadata": {},
   "outputs": [
    {
     "data": {
      "text/plain": [
       "array([[1., 0., 0., 0.],\n",
       "       [0., 1., 0., 0.],\n",
       "       [0., 0., 1., 0.],\n",
       "       [0., 0., 0., 1.]])"
      ]
     },
     "execution_count": 67,
     "metadata": {},
     "output_type": "execute_result"
    }
   ],
   "source": [
    "# **Q1.1:** Create a 4x4 identity matrix using `np.eye()`\n",
    "import numpy as np\n",
    "import math\n",
    "data=np.eye(4)\n",
    "data"
   ]
  },
  {
   "cell_type": "code",
   "execution_count": 68,
   "id": "d09fd190",
   "metadata": {},
   "outputs": [
    {
     "data": {
      "text/plain": [
       "array([0., 0., 0., 0., 0., 0., 0., 0.])"
      ]
     },
     "execution_count": 68,
     "metadata": {},
     "output_type": "execute_result"
    }
   ],
   "source": [
    "# **Q1.2:** Create an array of 8 zeros using `np.zeros()`\n",
    "data=np.zeros(8)\n",
    "data"
   ]
  },
  {
   "cell_type": "code",
   "execution_count": 69,
   "id": "55834ba6",
   "metadata": {},
   "outputs": [
    {
     "data": {
      "text/plain": [
       "array([1., 1., 1., 1., 1., 1.])"
      ]
     },
     "execution_count": 69,
     "metadata": {},
     "output_type": "execute_result"
    }
   ],
   "source": [
    "# **Q1.4:** Create an array with values from 0 to 15 using `np.arange()`\n",
    "data=np.ones(6)\n",
    "data"
   ]
  },
  {
   "cell_type": "code",
   "execution_count": 70,
   "id": "dfa37239",
   "metadata": {},
   "outputs": [
    {
     "data": {
      "text/plain": [
       "array([ 0,  1,  2,  3,  4,  5,  6,  7,  8,  9, 10, 11, 12, 13, 14])"
      ]
     },
     "execution_count": 70,
     "metadata": {},
     "output_type": "execute_result"
    }
   ],
   "source": [
    "# **Q1.5:** Create an array with 8 evenly spaced values from 0 to 100 using `np.linspace()`\n",
    "data=np.arange(0,15)\n",
    "data"
   ]
  },
  {
   "cell_type": "code",
   "execution_count": 71,
   "id": "e61550f1",
   "metadata": {},
   "outputs": [
    {
     "data": {
      "text/plain": [
       "array([  0.        ,  14.28571429,  28.57142857,  42.85714286,\n",
       "        57.14285714,  71.42857143,  85.71428571, 100.        ])"
      ]
     },
     "execution_count": 71,
     "metadata": {},
     "output_type": "execute_result"
    }
   ],
   "source": [
    "L=np.linspace(0,100,(8))\n",
    "L"
   ]
  },
  {
   "cell_type": "code",
   "execution_count": 72,
   "id": "f04524e5",
   "metadata": {},
   "outputs": [
    {
     "data": {
      "text/plain": [
       "(10, 5)"
      ]
     },
     "execution_count": 72,
     "metadata": {},
     "output_type": "execute_result"
    }
   ],
   "source": [
    "# **Q2.1:** What is the shape of the `banking_data` array?\n",
    "import numpy as np\n",
    "\n",
    "bd = np.array([\n",
    "    [1, 5230, 720, 34, 3],\n",
    "    [2, 12400, 810, 21, 7],\n",
    "    [3, 230, 580, 15, 1],\n",
    "    [4, 8900, 765, 45, 5],\n",
    "    [5, 15300, 840, 60, 10],\n",
    "    [6, 320, 495, 9, 0],\n",
    "    [7, 6780, 710, 28, 4],\n",
    "    [8, 2150, 630, 18, 2],\n",
    "    [9, 11675, 775, 40, 6],\n",
    "    [10, 980, 660, 12, 1]\n",
    "])\n",
    "\n",
    "bd.shape"
   ]
  },
  {
   "cell_type": "code",
   "execution_count": 73,
   "id": "9893361f",
   "metadata": {},
   "outputs": [
    {
     "data": {
      "text/plain": [
       "numpy.ndarray"
      ]
     },
     "execution_count": 73,
     "metadata": {},
     "output_type": "execute_result"
    }
   ],
   "source": [
    "# **Q2.2:** What is the data type of the `banking_data` array?\n",
    "type(bd)"
   ]
  },
  {
   "cell_type": "code",
   "execution_count": 74,
   "id": "8722f0a6",
   "metadata": {},
   "outputs": [
    {
     "data": {
      "text/plain": [
       "50"
      ]
     },
     "execution_count": 74,
     "metadata": {},
     "output_type": "execute_result"
    }
   ],
   "source": [
    "# **Q2.3:** What is the size (total number of elements) of the `banking_data` array?\n",
    "bd.size"
   ]
  },
  {
   "cell_type": "code",
   "execution_count": 75,
   "id": "50dfb8fa",
   "metadata": {},
   "outputs": [
    {
     "data": {
      "text/plain": [
       "2"
      ]
     },
     "execution_count": 75,
     "metadata": {},
     "output_type": "execute_result"
    }
   ],
   "source": [
    "# **Q2.4:** What is the number of dimensions of the `banking_data` array?\n",
    "bd.ndim"
   ]
  },
  {
   "cell_type": "code",
   "execution_count": 76,
   "id": "b92cf1d3",
   "metadata": {},
   "outputs": [
    {
     "data": {
      "text/plain": [
       "400"
      ]
     },
     "execution_count": 76,
     "metadata": {},
     "output_type": "execute_result"
    }
   ],
   "source": [
    "# **Q2.5:** What is the memory size of the `banking_data` array in bytes?\n",
    "bd.nbytes"
   ]
  },
  {
   "cell_type": "code",
   "execution_count": 77,
   "id": "eb1813cd",
   "metadata": {},
   "outputs": [
    {
     "data": {
      "text/plain": [
       "array([   1, 5230,  720,   34,    3])"
      ]
     },
     "execution_count": 77,
     "metadata": {},
     "output_type": "execute_result"
    }
   ],
   "source": [
    "\n",
    "# **Q3.1:** Extract the first row of `banking_data`\n",
    "bd[0,:]"
   ]
  },
  {
   "cell_type": "code",
   "execution_count": 78,
   "id": "564068f8",
   "metadata": {},
   "outputs": [
    {
     "data": {
      "text/plain": [
       "array([ 10, 980, 660,  12,   1])"
      ]
     },
     "execution_count": 78,
     "metadata": {},
     "output_type": "execute_result"
    }
   ],
   "source": [
    "\n",
    "# **Q3.2:** Extract the last row of `banking_data`\n",
    "bd[9,:]"
   ]
  },
  {
   "cell_type": "code",
   "execution_count": 79,
   "id": "8a98f1f4",
   "metadata": {},
   "outputs": [
    {
     "data": {
      "text/plain": [
       "array([ 5230, 12400,   230,  8900, 15300,   320,  6780,  2150, 11675,\n",
       "         980])"
      ]
     },
     "execution_count": 79,
     "metadata": {},
     "output_type": "execute_result"
    }
   ],
   "source": [
    "# **Q3.3:** Extract the Account_Balance column (column index 1)\n",
    "bd[:,1]"
   ]
  },
  {
   "cell_type": "code",
   "execution_count": 80,
   "id": "5fd5f5e8",
   "metadata": {},
   "outputs": [
    {
     "data": {
      "text/plain": [
       "array([[    1,  5230,   720],\n",
       "       [    2, 12400,   810],\n",
       "       [    3,   230,   580],\n",
       "       [    4,  8900,   765]])"
      ]
     },
     "execution_count": 80,
     "metadata": {},
     "output_type": "execute_result"
    }
   ],
   "source": [
    "# **Q3.4:** Extract the first 4 rows and first 3 columns\n",
    "bd[0:4,0:3]"
   ]
  },
  {
   "cell_type": "code",
   "execution_count": 81,
   "id": "f569d38b",
   "metadata": {},
   "outputs": [
    {
     "data": {
      "text/plain": [
       "array([[    3,   230,   580,    15,     1],\n",
       "       [    4,  8900,   765,    45,     5],\n",
       "       [    5, 15300,   840,    60,    10],\n",
       "       [    6,   320,   495,     9,     0],\n",
       "       [    7,  6780,   710,    28,     4]])"
      ]
     },
     "execution_count": 81,
     "metadata": {},
     "output_type": "execute_result"
    }
   ],
   "source": [
    "# **Q3.5:** Extract rows 3 to 7 (inclusive)\n",
    "bd[2:7,:]"
   ]
  },
  {
   "cell_type": "code",
   "execution_count": 82,
   "id": "2f142a93",
   "metadata": {},
   "outputs": [
    {
     "data": {
      "text/plain": [
       "np.int64(63965)"
      ]
     },
     "execution_count": 82,
     "metadata": {},
     "output_type": "execute_result"
    }
   ],
   "source": [
    "# **Q4.1:** Calculate the sum of all account balances\n",
    "S=bd[:,1].sum()\n",
    "S\n"
   ]
  },
  {
   "cell_type": "code",
   "execution_count": 83,
   "id": "12e9be2b",
   "metadata": {},
   "outputs": [
    {
     "data": {
      "text/plain": [
       "np.float64(6396.5)"
      ]
     },
     "execution_count": 83,
     "metadata": {},
     "output_type": "execute_result"
    }
   ],
   "source": [
    "# **Q4.2:** Calculate the mean account balance\n",
    "Mean=np.mean(bd[:,1])\n",
    "Mean"
   ]
  },
  {
   "cell_type": "code",
   "execution_count": 84,
   "id": "bd092e03",
   "metadata": {},
   "outputs": [
    {
     "data": {
      "text/plain": [
       "np.float64(5227.552032261372)"
      ]
     },
     "execution_count": 84,
     "metadata": {},
     "output_type": "execute_result"
    }
   ],
   "source": [
    "# **Q4.3:** Calculate the standard deviation of account balances\n",
    "std=np.std(bd[:,1])\n",
    "std"
   ]
  },
  {
   "cell_type": "code",
   "execution_count": 85,
   "id": "770e2073",
   "metadata": {},
   "outputs": [
    {
     "data": {
      "text/plain": [
       "np.float64(27327300.25)"
      ]
     },
     "execution_count": 85,
     "metadata": {},
     "output_type": "execute_result"
    }
   ],
   "source": [
    "# **Q4.4:** Calculate the variance of account balances\n",
    "var=np.var(bd[:,1])\n",
    "var"
   ]
  },
  {
   "cell_type": "code",
   "execution_count": 86,
   "id": "8cc1df3f",
   "metadata": {},
   "outputs": [
    {
     "data": {
      "text/plain": [
       "np.float64(6005.0)"
      ]
     },
     "execution_count": 86,
     "metadata": {},
     "output_type": "execute_result"
    }
   ],
   "source": [
    "# **Q4.5:** Calculate the median account balance\n",
    "M=np.median(bd[:,1])\n",
    "M"
   ]
  },
  {
   "cell_type": "code",
   "execution_count": 87,
   "id": "8f9850c1",
   "metadata": {},
   "outputs": [
    {
     "data": {
      "text/plain": [
       "(np.int64(230), np.int64(15300))"
      ]
     },
     "execution_count": 87,
     "metadata": {},
     "output_type": "execute_result"
    }
   ],
   "source": [
    "# **Q5.1:** Find the minimum and maximum account balances\n",
    "min=bd[:,1].min()\n",
    "max=bd[:,1].max()\n",
    "min,max"
   ]
  },
  {
   "cell_type": "code",
   "execution_count": 88,
   "id": "a77ec3a6",
   "metadata": {},
   "outputs": [
    {
     "data": {
      "text/plain": [
       "(np.int64(495), np.int64(840))"
      ]
     },
     "execution_count": 88,
     "metadata": {},
     "output_type": "execute_result"
    }
   ],
   "source": [
    "# **Q5.2:** Find the minimum and maximum credit scores\n",
    "min=bd[:,2].min()\n",
    "max=bd[:,2].max()\n",
    "min,max"
   ]
  },
  {
   "cell_type": "code",
   "execution_count": 89,
   "id": "1ede0ae6",
   "metadata": {},
   "outputs": [
    {
     "data": {
      "text/plain": [
       "array([ 1272.5 ,  6005.  , 10981.25])"
      ]
     },
     "execution_count": 89,
     "metadata": {},
     "output_type": "execute_result"
    }
   ],
   "source": [
    "# **Q5.3:** Calculate the percentile values for account balances (25th, 50th, 75th)\n",
    "perct=np.percentile(bd[:,1],[25,50,75])\n",
    "perct"
   ]
  },
  {
   "cell_type": "code",
   "execution_count": 90,
   "id": "210d937b",
   "metadata": {},
   "outputs": [
    {
     "data": {
      "text/plain": [
       "array([[1.        , 0.92346792],\n",
       "       [0.92346792, 1.        ]])"
      ]
     },
     "execution_count": 90,
     "metadata": {},
     "output_type": "execute_result"
    }
   ],
   "source": [
    "# **Q5.4:** Calculate the correlation between account balance and credit score\n",
    "cor=np.corrcoef(bd[:,1],bd[:,2])\n",
    "cor"
   ]
  },
  {
   "cell_type": "code",
   "execution_count": 91,
   "id": "025cd2f4",
   "metadata": {},
   "outputs": [
    {
     "data": {
      "text/plain": [
       "array([[3.03636669e+07, 5.49508056e+05],\n",
       "       [5.49508056e+05, 1.16613889e+04]])"
      ]
     },
     "execution_count": 91,
     "metadata": {},
     "output_type": "execute_result"
    }
   ],
   "source": [
    "# **Q5.5:** Calculate the covariance between account balance and credit score\n",
    "cova=np.cov(bd[:,1],bd[:,2])\n",
    "cova"
   ]
  },
  {
   "cell_type": "code",
   "execution_count": 92,
   "id": "361e6d44",
   "metadata": {},
   "outputs": [
    {
     "data": {
      "text/plain": [
       "array([[    1,  5230,   720,    34,     3,     2, 12400,   810,    21,\n",
       "            7],\n",
       "       [    3,   230,   580,    15,     1,     4,  8900,   765,    45,\n",
       "            5],\n",
       "       [    5, 15300,   840,    60,    10,     6,   320,   495,     9,\n",
       "            0],\n",
       "       [    7,  6780,   710,    28,     4,     8,  2150,   630,    18,\n",
       "            2],\n",
       "       [    9, 11675,   775,    40,     6,    10,   980,   660,    12,\n",
       "            1]])"
      ]
     },
     "execution_count": 92,
     "metadata": {},
     "output_type": "execute_result"
    }
   ],
   "source": [
    "# **Q6.1:** Reshape the `banking_data` to 5 rows × 10 columns\n",
    "bd.reshape(5,10)"
   ]
  },
  {
   "cell_type": "code",
   "execution_count": 93,
   "id": "02001bc0",
   "metadata": {},
   "outputs": [],
   "source": [
    "# **Q6.2:** Flatten the `banking_data` to a 1D array\n"
   ]
  },
  {
   "cell_type": "code",
   "execution_count": 94,
   "id": "98b0744c",
   "metadata": {},
   "outputs": [
    {
     "data": {
      "text/plain": [
       "array([[    1,     2,     3,     4,     5,     6,     7,     8,     9,\n",
       "           10],\n",
       "       [ 5230, 12400,   230,  8900, 15300,   320,  6780,  2150, 11675,\n",
       "          980],\n",
       "       [  720,   810,   580,   765,   840,   495,   710,   630,   775,\n",
       "          660],\n",
       "       [   34,    21,    15,    45,    60,     9,    28,    18,    40,\n",
       "           12],\n",
       "       [    3,     7,     1,     5,    10,     0,     4,     2,     6,\n",
       "            1]])"
      ]
     },
     "execution_count": 94,
     "metadata": {},
     "output_type": "execute_result"
    }
   ],
   "source": [
    "# **Q6.3:** Transpose the `banking_data`\n",
    "bd.T"
   ]
  },
  {
   "cell_type": "code",
   "execution_count": 95,
   "id": "bdd170af",
   "metadata": {},
   "outputs": [
    {
     "data": {
      "text/plain": [
       "[array([[    1,  5230,   720,    34,     3],\n",
       "        [    2, 12400,   810,    21,     7],\n",
       "        [    3,   230,   580,    15,     1],\n",
       "        [    4,  8900,   765,    45,     5],\n",
       "        [    5, 15300,   840,    60,    10]]),\n",
       " array([[    6,   320,   495,     9,     0],\n",
       "        [    7,  6780,   710,    28,     4],\n",
       "        [    8,  2150,   630,    18,     2],\n",
       "        [    9, 11675,   775,    40,     6],\n",
       "        [   10,   980,   660,    12,     1]])]"
      ]
     },
     "execution_count": 95,
     "metadata": {},
     "output_type": "execute_result"
    }
   ],
   "source": [
    "# **Q6.4:** Split the `banking_data` into 2 equal parts vertically\n",
    "half=np.vsplit(bd,2)\n",
    "half"
   ]
  },
  {
   "cell_type": "code",
   "execution_count": 96,
   "id": "6ce8e235",
   "metadata": {},
   "outputs": [
    {
     "data": {
      "text/plain": [
       "[array([[ 1],\n",
       "        [ 2],\n",
       "        [ 3],\n",
       "        [ 4],\n",
       "        [ 5],\n",
       "        [ 6],\n",
       "        [ 7],\n",
       "        [ 8],\n",
       "        [ 9],\n",
       "        [10]]),\n",
       " array([[ 5230],\n",
       "        [12400],\n",
       "        [  230],\n",
       "        [ 8900],\n",
       "        [15300],\n",
       "        [  320],\n",
       "        [ 6780],\n",
       "        [ 2150],\n",
       "        [11675],\n",
       "        [  980]]),\n",
       " array([[720],\n",
       "        [810],\n",
       "        [580],\n",
       "        [765],\n",
       "        [840],\n",
       "        [495],\n",
       "        [710],\n",
       "        [630],\n",
       "        [775],\n",
       "        [660]]),\n",
       " array([[34],\n",
       "        [21],\n",
       "        [15],\n",
       "        [45],\n",
       "        [60],\n",
       "        [ 9],\n",
       "        [28],\n",
       "        [18],\n",
       "        [40],\n",
       "        [12]]),\n",
       " array([[ 3],\n",
       "        [ 7],\n",
       "        [ 1],\n",
       "        [ 5],\n",
       "        [10],\n",
       "        [ 0],\n",
       "        [ 4],\n",
       "        [ 2],\n",
       "        [ 6],\n",
       "        [ 1]])]"
      ]
     },
     "execution_count": 96,
     "metadata": {},
     "output_type": "execute_result"
    }
   ],
   "source": [
    "half_hor=np.hsplit(bd,5)\n",
    "half_hor"
   ]
  },
  {
   "cell_type": "code",
   "execution_count": 97,
   "id": "46ce1043",
   "metadata": {},
   "outputs": [
    {
     "data": {
      "text/plain": [
       "array([], shape=(0, 5), dtype=int64)"
      ]
     },
     "execution_count": 97,
     "metadata": {},
     "output_type": "execute_result"
    }
   ],
   "source": [
    "# **Q7.1:** Find customers with account balance greater than $100,000\n",
    "find=bd[bd[:,1]>100000]\n",
    "find"
   ]
  },
  {
   "cell_type": "code",
   "execution_count": 98,
   "id": "ff995e8b",
   "metadata": {},
   "outputs": [
    {
     "data": {
      "text/plain": [
       "array([[    2, 12400,   810,    21,     7],\n",
       "       [    5, 15300,   840,    60,    10]])"
      ]
     },
     "execution_count": 98,
     "metadata": {},
     "output_type": "execute_result"
    }
   ],
   "source": [
    "# **Q7.2:** Find customers with credit score greater than 800\n",
    "Cs=bd[bd[:,2]>800]\n",
    "Cs"
   ]
  },
  {
   "cell_type": "code",
   "execution_count": 99,
   "id": "c8f7b07c",
   "metadata": {},
   "outputs": [
    {
     "data": {
      "text/plain": [
       "array([[    5, 15300,   840,    60,    10]])"
      ]
     },
     "execution_count": 99,
     "metadata": {},
     "output_type": "execute_result"
    }
   ],
   "source": [
    "# **Q7.3:** Find customers with transaction count greater than 50 AND credit score less than 750\n",
    "FC=bd[(bd[:,3]>50) & (bd[:,2]>750)]\n",
    "FC"
   ]
  },
  {
   "cell_type": "code",
   "execution_count": 100,
   "id": "fc3e1a40",
   "metadata": {},
   "outputs": [
    {
     "data": {
      "text/plain": [
       "np.int64(3)"
      ]
     },
     "execution_count": 100,
     "metadata": {},
     "output_type": "execute_result"
    }
   ],
   "source": [
    "# **Q7.4:** Count how many customers have account balance between $10,000 and $100,000\n",
    "count=np.sum((bd[:,1]>10000) & (bd[:,1]<1000000))\n",
    "count"
   ]
  },
  {
   "cell_type": "code",
   "execution_count": 101,
   "id": "0b3ccaa3",
   "metadata": {},
   "outputs": [
    {
     "data": {
      "text/plain": [
       "np.int64(5)"
      ]
     },
     "execution_count": 101,
     "metadata": {},
     "output_type": "execute_result"
    }
   ],
   "source": [
    "# **Q7.5:** Find the index of the customer with the highest credit score\n",
    "High_CB=bd[:,2].argmax()+1\n",
    "High_CB"
   ]
  },
  {
   "cell_type": "code",
   "execution_count": 102,
   "id": "6ecf9ef7",
   "metadata": {},
   "outputs": [
    {
     "data": {
      "text/plain": [
       "array([ 3,  6, 10,  8,  1,  7,  4,  9,  2,  5])"
      ]
     },
     "execution_count": 102,
     "metadata": {},
     "output_type": "execute_result"
    }
   ],
   "source": [
    "# **Q8.1:** Sort the `banking_data` by account balance (ascending)\n",
    "AS=np.argsort(bd[:,1])+1\n",
    "AS"
   ]
  },
  {
   "cell_type": "code",
   "execution_count": 103,
   "id": "e5ea9109",
   "metadata": {},
   "outputs": [
    {
     "data": {
      "text/plain": [
       "array([ 5,  2,  9,  4,  7,  1,  8,  3, 10,  6])"
      ]
     },
     "execution_count": 103,
     "metadata": {},
     "output_type": "execute_result"
    }
   ],
   "source": [
    "# **Q8.2:** Sort the `banking_data` by credit score (descending)\n",
    "DS=(-bd[:,4]).argsort()+1\n",
    "DS"
   ]
  },
  {
   "cell_type": "code",
   "execution_count": 104,
   "id": "306aefc6",
   "metadata": {},
   "outputs": [
    {
     "data": {
      "text/plain": [
       "array([ 6,  3, 10,  8,  1,  7,  4,  9,  2,  5])"
      ]
     },
     "execution_count": 104,
     "metadata": {},
     "output_type": "execute_result"
    }
   ],
   "source": [
    "# **Q8.3:** Find the indices that would sort the array by years active\n",
    "Years_active=bd[:,4].argsort()+1\n",
    "Years_active"
   ]
  },
  {
   "cell_type": "code",
   "execution_count": 105,
   "id": "8e675dc1",
   "metadata": {},
   "outputs": [
    {
     "data": {
      "text/plain": [
       "np.int64(6)"
      ]
     },
     "execution_count": 105,
     "metadata": {},
     "output_type": "execute_result"
    }
   ],
   "source": [
    "# **Q8.4:** Find the customer with the second highest account balance\n",
    "AS=np.argsort(bd[:,1])+1\n",
    "AS[1]\n"
   ]
  },
  {
   "cell_type": "code",
   "execution_count": 106,
   "id": "92fa7902",
   "metadata": {},
   "outputs": [
    {
     "data": {
      "text/plain": [
       "np.int64(6)"
      ]
     },
     "execution_count": 106,
     "metadata": {},
     "output_type": "execute_result"
    }
   ],
   "source": [
    "# **Q8.5:** Find the customer with the lowest transaction count\n",
    "Low_tran=np.argsort(bd[:,3])+1\n",
    "Low_tran[0]"
   ]
  },
  {
   "cell_type": "code",
   "execution_count": 107,
   "id": "e265c26c",
   "metadata": {},
   "outputs": [
    {
     "data": {
      "text/plain": [
       "array([[    1,  5230,   720,    34,     3],\n",
       "       [    2, 12400,   810,    21,     7],\n",
       "       [    3,   230,   580,    15,     1],\n",
       "       [    4,  8900,   765,    45,     5],\n",
       "       [    5, 15300,   840,    60,    10],\n",
       "       [    6,   320,   495,     9,     0],\n",
       "       [    7,  6780,   710,    28,     4],\n",
       "       [    8,  2150,   630,    18,     2],\n",
       "       [    9, 11675,   775,    40,     6],\n",
       "       [   10,   980,   660,    12,     1]])"
      ]
     },
     "execution_count": 107,
     "metadata": {},
     "output_type": "execute_result"
    }
   ],
   "source": [
    "# **Q9.1:** Calculate the absolute values of all elements\n",
    "A=abs(bd)\n",
    "A"
   ]
  },
  {
   "cell_type": "code",
   "execution_count": 108,
   "id": "0a20fa2f",
   "metadata": {},
   "outputs": [
    {
     "data": {
      "text/plain": [
       "array([ 72.31873893, 111.35528726,  15.16575089,  94.33981132,\n",
       "       123.69316877,  17.88854382,  82.3407554 ,  46.36809248,\n",
       "       108.05091392,  31.30495168])"
      ]
     },
     "execution_count": 108,
     "metadata": {},
     "output_type": "execute_result"
    }
   ],
   "source": [
    "# **Q9.2:** Calculate the square root of all account balances\n",
    "Root=np.sqrt(bd[:,1])\n",
    "Root"
   ]
  },
  {
   "cell_type": "code",
   "execution_count": 109,
   "id": "fbccfa34",
   "metadata": {},
   "outputs": [
    {
     "data": {
      "text/plain": [
       "array([26.83281573, 28.46049894, 24.08318916, 27.65863337, 28.98275349,\n",
       "       22.24859546, 26.64582519, 25.0998008 , 27.83882181, 25.69046516])"
      ]
     },
     "execution_count": 109,
     "metadata": {},
     "output_type": "execute_result"
    }
   ],
   "source": [
    "# **Q9.3:** Calculate the square of all credit scores\n",
    "Root=np.sqrt(bd[:,2])\n",
    "Root"
   ]
  },
  {
   "cell_type": "code",
   "execution_count": 110,
   "id": "59963968",
   "metadata": {},
   "outputs": [
    {
     "data": {
      "text/plain": [
       "array([5.83461743e+14, 1.31881573e+09, 3.26901737e+06, 3.49342711e+19,\n",
       "       1.14200739e+26, 8.10308393e+03, 1.44625706e+12, 6.56599691e+07,\n",
       "       2.35385267e+17, 1.62754791e+05])"
      ]
     },
     "execution_count": 110,
     "metadata": {},
     "output_type": "execute_result"
    }
   ],
   "source": [
    "# **Q9.4:** Calculate the exponential of all transaction counts\n",
    "EXP=np.exp(bd[:,3])\n",
    "EXP"
   ]
  },
  {
   "cell_type": "code",
   "execution_count": 111,
   "id": "eaa3e48a",
   "metadata": {},
   "outputs": [
    {
     "data": {
      "text/plain": [
       "array([8.56216656, 9.42545175, 5.43807931, 9.09380656, 9.63560811,\n",
       "       5.768321  , 8.82173238, 7.67322312, 9.36520508, 6.88755257])"
      ]
     },
     "execution_count": 111,
     "metadata": {},
     "output_type": "execute_result"
    }
   ],
   "source": [
    "# **Q9.5:** Calculate the natural logarithm of all account balances\n",
    "Log=np.log(bd[:,1])\n",
    "Log"
   ]
  },
  {
   "cell_type": "code",
   "execution_count": 112,
   "id": "5e47e506",
   "metadata": {},
   "outputs": [
    {
     "data": {
      "text/plain": [
       "array([ 5230, 17630, 17860, 26760, 42060, 42380, 49160, 51310, 62985,\n",
       "       63965])"
      ]
     },
     "execution_count": 112,
     "metadata": {},
     "output_type": "execute_result"
    }
   ],
   "source": [
    "# **Q10.1:** Calculate the cumulative sum of account balances\n",
    "CSum=np.cumsum(bd[:,1])\n",
    "CSum"
   ]
  },
  {
   "cell_type": "code",
   "execution_count": 113,
   "id": "80344a9c",
   "metadata": {},
   "outputs": [
    {
     "data": {
      "text/plain": [
       "array([            34,            714,          10710,         481950,\n",
       "             28917000,      260253000,     7287084000,   131167512000,\n",
       "        5246700480000, 62960405760000])"
      ]
     },
     "execution_count": 113,
     "metadata": {},
     "output_type": "execute_result"
    }
   ],
   "source": [
    "# **Q10.2:** Calculate the cumulative product of transaction counts\n",
    "CPro=np.cumprod(bd[:,3])\n",
    "CPro"
   ]
  },
  {
   "cell_type": "code",
   "execution_count": 114,
   "id": "bb1ee25c",
   "metadata": {},
   "outputs": [
    {
     "data": {
      "text/plain": [
       "array([  7170, -12170,   8670,   6400, -14980,   6460,  -4630,   9525,\n",
       "       -10695])"
      ]
     },
     "execution_count": 114,
     "metadata": {},
     "output_type": "execute_result"
    }
   ],
   "source": [
    "# **Q10.3:** Calculate the difference between consecutive account balances\n",
    "Condiff=np.diff(bd[:,1])\n",
    "Condiff"
   ]
  },
  {
   "cell_type": "code",
   "execution_count": 115,
   "id": "d2b070fe",
   "metadata": {},
   "outputs": [
    {
     "data": {
      "text/plain": [
       "array([  7170. ,  -2500. ,  -1750. ,   7535. ,  -4290. ,  -4260. ,\n",
       "          915. ,   2447.5,   -585. , -10695. ])"
      ]
     },
     "execution_count": 115,
     "metadata": {},
     "output_type": "execute_result"
    }
   ],
   "source": [
    "# **Q10.4:** Calculate the gradient of account balances\n",
    "Grad=np.gradient(bd[:,1])\n",
    "Grad"
   ]
  },
  {
   "cell_type": "code",
   "execution_count": 116,
   "id": "091c26ff",
   "metadata": {},
   "outputs": [
    {
     "data": {
      "text/plain": [
       "(array([4, 1, 2, 1, 2]),\n",
       " array([  230.,  3244.,  6258.,  9272., 12286., 15300.]))"
      ]
     },
     "execution_count": 116,
     "metadata": {},
     "output_type": "execute_result"
    }
   ],
   "source": [
    "# **Q10.5:** Calculate the histogram of account balances with 5 bins\n",
    "His=np.histogram(bd[:,1], bins=5)\n",
    "His"
   ]
  },
  {
   "cell_type": "code",
   "execution_count": 117,
   "id": "23872589",
   "metadata": {},
   "outputs": [
    {
     "data": {
      "text/plain": [
       "array([595, 106, 123, 569, 214, 737], dtype=int32)"
      ]
     },
     "execution_count": 117,
     "metadata": {},
     "output_type": "execute_result"
    }
   ],
   "source": [
    "# **Q11.1:** Generate 6 random integers between 1 and 1000\n",
    "random=np.random.randint(0,1000,6)\n",
    "random"
   ]
  },
  {
   "cell_type": "code",
   "execution_count": 118,
   "id": "29bae096",
   "metadata": {},
   "outputs": [
    {
     "data": {
      "text/plain": [
       "array([0.68482974, 0.4809319 , 0.39211752, 0.34317802, 0.72904971,\n",
       "       0.43857224])"
      ]
     },
     "execution_count": 118,
     "metadata": {},
     "output_type": "execute_result"
    }
   ],
   "source": [
    "# **Q11.2:** Generate 6 random floats between 0 and 1\n",
    "ranfloat=np.random.rand(6)\n",
    "ranfloat"
   ]
  },
  {
   "cell_type": "code",
   "execution_count": 119,
   "id": "db8629fa",
   "metadata": {},
   "outputs": [
    {
     "data": {
      "text/plain": [
       "array([685.66275259, 638.08090993, 623.05665285, 757.67460214,\n",
       "       712.65259202, 569.85110255])"
      ]
     },
     "execution_count": 119,
     "metadata": {},
     "output_type": "execute_result"
    }
   ],
   "source": [
    "# **Q11.3:** Generate 6 random numbers from normal distribution (mean=700, std=100)\n",
    "Normal=np.random.normal(700,100,6)\n",
    "Normal"
   ]
  },
  {
   "cell_type": "code",
   "execution_count": 120,
   "id": "00467698",
   "metadata": {},
   "outputs": [
    {
     "data": {
      "text/plain": [
       "array([[    1,  5230,   720,    34,     3],\n",
       "       [    2, 12400,   810,    21,     7],\n",
       "       [    3,   230,   580,    15,     1],\n",
       "       [    4,  8900,   765,    45,     5],\n",
       "       [    5, 15300,   840,    60,    10],\n",
       "       [    6,   320,   495,     9,     0],\n",
       "       [    7,  6780,   710,    28,     4],\n",
       "       [    8,  2150,   630,    18,     2],\n",
       "       [    9, 11675,   775,    40,     6],\n",
       "       [   10,   980,   660,    12,     1]])"
      ]
     },
     "execution_count": 120,
     "metadata": {},
     "output_type": "execute_result"
    }
   ],
   "source": [
    "bd"
   ]
  },
  {
   "cell_type": "code",
   "execution_count": 121,
   "id": "4d5a1224",
   "metadata": {},
   "outputs": [
    {
     "data": {
      "text/plain": [
       "array([[    8,  2150,   630,    18,     2],\n",
       "       [    3,   230,   580,    15,     1],\n",
       "       [   10,   980,   660,    12,     1],\n",
       "       [    7,  6780,   710,    28,     4],\n",
       "       [    4,  8900,   765,    45,     5],\n",
       "       [    2, 12400,   810,    21,     7],\n",
       "       [    1,  5230,   720,    34,     3],\n",
       "       [    6,   320,   495,     9,     0],\n",
       "       [    9, 11675,   775,    40,     6],\n",
       "       [    5, 15300,   840,    60,    10]])"
      ]
     },
     "execution_count": 121,
     "metadata": {},
     "output_type": "execute_result"
    }
   ],
   "source": [
    "# **Q11.4:** Shuffle the `banking_data` rows randomly\n",
    "suffle =bd.copy()\n",
    "np.random.shuffle(suffle)\n",
    "suffle"
   ]
  },
  {
   "cell_type": "code",
   "execution_count": 122,
   "id": "1659d66f",
   "metadata": {},
   "outputs": [
    {
     "data": {
      "text/plain": [
       "array([0.69646919, 0.28613933, 0.22685145, 0.55131477])"
      ]
     },
     "execution_count": 122,
     "metadata": {},
     "output_type": "execute_result"
    }
   ],
   "source": [
    "# **Q11.5:** Set random seed to 123 and generate 4 random numbers\n",
    "np.random.seed(123)\n",
    "L=np.random.random(4)\n",
    "L"
   ]
  },
  {
   "cell_type": "code",
   "execution_count": 123,
   "id": "29ec0f59",
   "metadata": {},
   "outputs": [],
   "source": [
    "# **Q12.1:** Calculate the dot product of account balance and credit score columns\n",
    "DP=np.dot(bd[:,1],bd[:,2])\n"
   ]
  },
  {
   "cell_type": "code",
   "execution_count": 124,
   "id": "eb09784a",
   "metadata": {},
   "outputs": [
    {
     "data": {
      "text/plain": [
       "array([-4691700,      630,     1940])"
      ]
     },
     "execution_count": 124,
     "metadata": {},
     "output_type": "execute_result"
    }
   ],
   "source": [
    "# **Q12.2:** Calculate the cross product of first two rows\n",
    "Cross=np.cross(bd[0,:3],bd[1,:3])\n",
    "Cross"
   ]
  },
  {
   "cell_type": "code",
   "execution_count": 125,
   "id": "ac2eaa51",
   "metadata": {},
   "outputs": [
    {
     "data": {
      "text/plain": [
       "np.float64(26123.26788516322)"
      ]
     },
     "execution_count": 125,
     "metadata": {},
     "output_type": "execute_result"
    }
   ],
   "source": [
    "# **Q12.3:** Calculate the norm (magnitude) of the account balance column\n",
    "Mag=np.linalg.norm(bd[:,1])\n",
    "Mag"
   ]
  },
  {
   "cell_type": "code",
   "execution_count": 126,
   "id": "585f75a8",
   "metadata": {},
   "outputs": [
    {
     "data": {
      "text/plain": [
       "(array([[1, 2, 3],\n",
       "        [4, 5, 6],\n",
       "        [7, 8, 9]]),\n",
       " np.float64(0.0))"
      ]
     },
     "execution_count": 126,
     "metadata": {},
     "output_type": "execute_result"
    }
   ],
   "source": [
    "# **Q12.4:** Create a 3x3 matrix and calculate its determinant\n",
    "m=np.array([[1,2,3],[4,5,6],[7,8,9]])\n",
    "Det=np.linalg.det(m)\n",
    "m,Det"
   ]
  },
  {
   "cell_type": "code",
   "execution_count": 136,
   "id": "72b4db5c",
   "metadata": {},
   "outputs": [
    {
     "data": {
      "text/plain": [
       "array([[ 0.21296296, -0.16666667,  0.00925926],\n",
       "       [ 0.16666667,  0.        , -0.16666667],\n",
       "       [-0.48148148,  0.33333333,  0.37037037]])"
      ]
     },
     "execution_count": 136,
     "metadata": {},
     "output_type": "execute_result"
    }
   ],
   "source": [
    "# **Q12.5:** Calculate the inverse of the 3x3 matrix\n",
    "a=np.random.randint(1,10,(3,3))\n",
    "b=np.linalg.inv(a)\n",
    "b"
   ]
  },
  {
   "cell_type": "code",
   "execution_count": null,
   "id": "b5fd000f",
   "metadata": {},
   "outputs": [
    {
     "data": {
      "text/plain": [
       "array(['1', '2', '3', '4', '5', '6', '7', '8', '9', '10'], dtype='<U21')"
      ]
     },
     "execution_count": 72,
     "metadata": {},
     "output_type": "execute_result"
    }
   ],
   "source": [
    "# **Q13.1:** Convert all customer IDs to strings\n",
    "S=bd[:,0].astype(str)\n",
    "S\n"
   ]
  },
  {
   "cell_type": "code",
   "execution_count": null,
   "id": "58a66a6a",
   "metadata": {},
   "outputs": [
    {
     "data": {
      "text/plain": [
       "array([False, False, False, False, False, False, False, False, False,\n",
       "       False])"
      ]
     },
     "execution_count": 74,
     "metadata": {},
     "output_type": "execute_result"
    }
   ],
   "source": [
    "# **Q13.2:** Check if any customer ID contains '100'\n",
    "cont = np.char.find(S, '100') >= 0\n",
    "cont"
   ]
  },
  {
   "cell_type": "code",
   "execution_count": null,
   "id": "f7aa40b5",
   "metadata": {},
   "outputs": [
    {
     "data": {
      "text/plain": [
       "array(['1', '2', '3', '4', '5', '6', '7', '8', '9', '10'], dtype='<U21')"
      ]
     },
     "execution_count": 83,
     "metadata": {},
     "output_type": "execute_result"
    }
   ],
   "source": [
    "# **Q13.3:** Convert all customer IDs to uppercase (if they were strings)\n",
    "upper=np.char.upper(S)\n",
    "S"
   ]
  },
  {
   "cell_type": "code",
   "execution_count": null,
   "id": "6c701b12",
   "metadata": {},
   "outputs": [
    {
     "data": {
      "text/plain": [
       "array([1, 1, 1, 1, 1, 1, 1, 1, 1, 2])"
      ]
     },
     "execution_count": 84,
     "metadata": {},
     "output_type": "execute_result"
    }
   ],
   "source": [
    "# **Q13.4:** Count the length of each customer ID string\n",
    "len=np.char.str_len(S)\n",
    "len"
   ]
  },
  {
   "cell_type": "code",
   "execution_count": null,
   "id": "16eb149e",
   "metadata": {},
   "outputs": [
    {
     "data": {
      "text/plain": [
       "array(['1', '2', '3', '4', '5', '6', '7', '8', '9', '10'], dtype='<U2')"
      ]
     },
     "execution_count": 87,
     "metadata": {},
     "output_type": "execute_result"
    }
   ],
   "source": [
    "# **Q13.5:** Replace '100' with 'CUST' in customer IDs\n",
    "re=np.char.replace(S,'100','cust')\n",
    "re"
   ]
  },
  {
   "cell_type": "code",
   "execution_count": null,
   "id": "2ac8fa8b",
   "metadata": {},
   "outputs": [
    {
     "data": {
      "text/plain": [
       "array([ 36,  84,  12,  60, 120,   0,  48,  24,  72,  12])"
      ]
     },
     "execution_count": 90,
     "metadata": {},
     "output_type": "execute_result"
    }
   ],
   "source": [
    "# **Q14.1:** Convert years active to months\n",
    "months=bd[:,4]*12\n",
    "months"
   ]
  },
  {
   "cell_type": "code",
   "execution_count": null,
   "id": "7b7a2fcc",
   "metadata": {},
   "outputs": [
    {
     "data": {
      "text/plain": [
       "np.float64(3.9)"
      ]
     },
     "execution_count": 93,
     "metadata": {},
     "output_type": "execute_result"
    }
   ],
   "source": [
    "# **Q14.2:** Calculate the average years active\n",
    "mean=bd[:,4].mean()\n",
    "mean"
   ]
  },
  {
   "cell_type": "code",
   "execution_count": null,
   "id": "f2bc85cd",
   "metadata": {},
   "outputs": [
    {
     "data": {
      "text/plain": [
       "array([[    2, 12400,   810,    21,     7],\n",
       "       [    5, 15300,   840,    60,    10],\n",
       "       [    9, 11675,   775,    40,     6]])"
      ]
     },
     "execution_count": 95,
     "metadata": {},
     "output_type": "execute_result"
    }
   ],
   "source": [
    "# **Q14.3:** Find customers who have been active for more than 5 years\n",
    "more=bd[bd[:,4]>5]\n",
    "more"
   ]
  },
  {
   "cell_type": "code",
   "execution_count": null,
   "id": "f1b269d3",
   "metadata": {},
   "outputs": [
    {
     "data": {
      "text/plain": [
       "np.int64(39)"
      ]
     },
     "execution_count": 98,
     "metadata": {},
     "output_type": "execute_result"
    }
   ],
   "source": [
    "# **Q14.4:** Calculate the total time all customers have been active (in years)\n",
    "All=bd[:,4].sum()\n",
    "All"
   ]
  },
  {
   "cell_type": "code",
   "execution_count": null,
   "id": "dbe40996",
   "metadata": {},
   "outputs": [
    {
     "data": {
      "text/plain": [
       "np.int64(6)"
      ]
     },
     "execution_count": 100,
     "metadata": {},
     "output_type": "execute_result"
    }
   ],
   "source": [
    "# **Q14.5:** Find the customer with the shortest time active\n",
    "short=bd[:,4].argmin()+1\n",
    "short"
   ]
  },
  {
   "cell_type": "code",
   "execution_count": null,
   "id": "6da38a06",
   "metadata": {},
   "outputs": [
    {
     "name": "stdout",
     "output_type": "stream",
     "text": [
      "[ 5491.5  13020.     241.5   9345.   16065.     336.    7119.    2257.5\n",
      " 12258.75  1029.  ]\n"
     ]
    }
   ],
   "source": [
    "# **Q15.1:** Apply a function to calculate 5% interest on all account balances\n",
    "d=bd[:,1]*0.05\n",
    "c=(bd[:,1])+d\n",
    "print(c)\n",
    "\n"
   ]
  },
  {
   "cell_type": "code",
   "execution_count": null,
   "id": "4100f557",
   "metadata": {},
   "outputs": [
    {
     "data": {
      "text/plain": [
       "(array([0, 1, 2, 3, 4, 5, 6, 7, 8, 9]),)"
      ]
     },
     "execution_count": 107,
     "metadata": {},
     "output_type": "execute_result"
    }
   ],
   "source": [
    "# **Q15.2:** Use `np.where` to categorize customers by balance ranges\n",
    "CC=np.where(bd[:,1]>6396,\"High value\",\"Low value\")\n",
    "CC"
   ]
  },
  {
   "cell_type": "code",
   "execution_count": null,
   "id": "f96ae07f",
   "metadata": {},
   "outputs": [
    {
     "name": "stdout",
     "output_type": "stream",
     "text": [
      "['excellent' 'excellent' 'good' 'excellent' 'excellent' 'good' 'excellent'\n",
      " 'good' 'excellent' 'good']\n"
     ]
    }
   ],
   "source": [
    "# **Q15.3:** Use `np.select` to categorize customers by credit score ranges\n",
    "range=[\n",
    "    bd[:,2]<400,                                         \n",
    "    (bd[:,2] >=400) & (bd[:,2]<700),\n",
    "    bd[:,2]>=700\n",
    "]\n",
    "choices=['low','good','excellent']\n",
    "customer=np.select(range,choices,default='unknowen')\n",
    "print(customer)\n"
   ]
  },
  {
   "cell_type": "code",
   "execution_count": 150,
   "id": "ba73d184",
   "metadata": {},
   "outputs": [
    {
     "name": "stdout",
     "output_type": "stream",
     "text": [
      "[2615 6200  115 4450 7650  160 3390 1075 5837  490]\n"
     ]
    }
   ],
   "source": [
    "# **Q15.4:** Use `np.piecewise` to apply different interest rates based on balance\n",
    "bd[:,1]\n",
    "def low_balance(x): return x*0.5 \n",
    "def normal_balance(x): return x*1.0\n",
    "def high_balance(x): return x*0.5\n",
    "\n",
    "interest=np.piecewise(bd[:,1],\n",
    "                   [bd[:,1]<20,\n",
    "                   (bd[:,1]>=20) & (bd[:,1]<50),\n",
    "                   bd[:,1]>=50],\n",
    "                   [low_balance,normal_balance,high_balance])\n",
    "print(interest)"
   ]
  },
  {
   "cell_type": "code",
   "execution_count": 151,
   "id": "44bfb551",
   "metadata": {},
   "outputs": [
    {
     "name": "stdout",
     "output_type": "stream",
     "text": [
      "[ 5988 13240   829  9719 16215   830  7529  2808 12505  1663]\n"
     ]
    }
   ],
   "source": [
    "# **Q15.5:** Use `np.apply_along_axis` to calculate the sum of each row\n",
    "bd\n",
    "sum_of_row=np.apply_along_axis(np.sum,1,bd) \n",
    "print(sum_of_row)\n"
   ]
  },
  {
   "cell_type": "code",
   "execution_count": 152,
   "id": "41b2c874",
   "metadata": {},
   "outputs": [
    {
     "data": {
      "text/plain": [
       "(array([7, 3, 5], dtype=int32),\n",
       " array([5, 7, 4], dtype=int32),\n",
       " array([7, 3, 5, 5, 7, 4], dtype=int32))"
      ]
     },
     "execution_count": 152,
     "metadata": {},
     "output_type": "execute_result"
    }
   ],
   "source": [
    "# **Q16.1:** Concatenate two arrays horizontally using `np.hstack()`\n",
    "n=np.random.randint(1,10,(3))\n",
    "m=np.random.randint(1,10,(3))\n",
    "o=np.hstack([n,m])\n",
    "n,m,o\n",
    "\n"
   ]
  },
  {
   "cell_type": "code",
   "execution_count": 154,
   "id": "8569f6db",
   "metadata": {},
   "outputs": [
    {
     "data": {
      "text/plain": [
       "(array([[2],\n",
       "        [6],\n",
       "        [8]], dtype=int32),\n",
       " array([[3],\n",
       "        [5],\n",
       "        [9]], dtype=int32),\n",
       " array([[2, 3],\n",
       "        [6, 5],\n",
       "        [8, 9]], dtype=int32))"
      ]
     },
     "execution_count": 154,
     "metadata": {},
     "output_type": "execute_result"
    }
   ],
   "source": [
    "# **Q16.5:** Create a column stack using `np.column_stack()`\n",
    "a=np.random.randint(1,10,(3,1))\n",
    "b=np.random.randint(1,10,(3,1))\n",
    "c=np.hstack([a,b])\n",
    "a,b,c"
   ]
  },
  {
   "cell_type": "code",
   "execution_count": null,
   "id": "eda1d1ae",
   "metadata": {},
   "outputs": [
    {
     "name": "stdout",
     "output_type": "stream",
     "text": [
      "\n",
      "Q16.2: Concatenate two arrays vertically using np.vstack()\n"
     ]
    },
    {
     "data": {
      "text/plain": [
       "(array([[2, 3, 2]], dtype=int32),\n",
       " array([[2, 4, 6]], dtype=int32),\n",
       " array([7, 3, 5], dtype=int32))"
      ]
     },
     "execution_count": 155,
     "metadata": {},
     "output_type": "execute_result"
    }
   ],
   "source": [
    "# nQ16.2: Concatenate two arrays vertically using np.vstack()\n",
    "l=np.random.randint(1,10,(1,3))\n",
    "m=np.random.randint(1,10,(1,3))\n",
    "n=np.vstack([l,m])\n",
    "l,m,n\n"
   ]
  },
  {
   "cell_type": "code",
   "execution_count": 156,
   "id": "c406df97",
   "metadata": {},
   "outputs": [
    {
     "data": {
      "text/plain": [
       "(array([[1, 9, 2]], dtype=int32), array([[7, 4, 4]], dtype=int32))"
      ]
     },
     "execution_count": 156,
     "metadata": {},
     "output_type": "execute_result"
    }
   ],
   "source": [
    "# **Q16.3:** Concatenate arrays along a specific axis using `np.concatenate()`\n",
    "l=np.random.randint(1,10,(1,3))\n",
    "m=np.random.randint(1,10,(1,3))\n",
    "h=np.concatenate([l,m])\n",
    "l,m,"
   ]
  },
  {
   "cell_type": "code",
   "execution_count": 157,
   "id": "b44ed740",
   "metadata": {},
   "outputs": [
    {
     "data": {
      "text/plain": [
       "(array([[6, 8, 3]], dtype=int32),\n",
       " array([[4, 4, 4]], dtype=int32),\n",
       " array([[[6, 4],\n",
       "         [8, 4],\n",
       "         [3, 4]]], dtype=int32))"
      ]
     },
     "execution_count": 157,
     "metadata": {},
     "output_type": "execute_result"
    }
   ],
   "source": [
    "# '**Q16.4:** Stack arrays depth-wise using `np.dstack()`\n",
    "a=np.random.randint(1,10,(1,3))\n",
    "b=np.random.randint(1,10,(1,3))\n",
    "G=np.dstack([a,b])\n",
    "a,b,G"
   ]
  },
  {
   "cell_type": "code",
   "execution_count": 163,
   "id": "4515df9d",
   "metadata": {},
   "outputs": [
    {
     "name": "stdout",
     "output_type": "stream",
     "text": [
      "[[2 4 5]]\n",
      "[[8 7 2]]\n",
      "[[2 4 5 8 7 2]]\n"
     ]
    }
   ],
   "source": [
    "# **Q16.5:** Create a column stack using `np.column_stack()`\n",
    "a=np.random.randint(1,10,(1,3))\n",
    "b=np.random.randint(1,10,(1,3))\n",
    "data=np.column_stack([a,b])\n",
    "print(a)\n",
    "print(b)\n",
    "print(data)"
   ]
  },
  {
   "cell_type": "code",
   "execution_count": 165,
   "id": "43d2c5c3",
   "metadata": {},
   "outputs": [
    {
     "name": "stdout",
     "output_type": "stream",
     "text": [
      "[1 2 3 4 5 6 7 8 9]\n",
      "1:[1 2 3]\n",
      "2:[4 5 6]\n",
      "3:[7 8 9]\n"
     ]
    }
   ],
   "source": [
    "# **Q17.1:** Split an array into 3 equal parts using `np.split()`\n",
    "s1=np.array([1,2,3,4,5,6,7,8,9])\n",
    "s2=np.split(str,3)\n",
    "print(s1)\n",
    "for i ,part in enumerate(s2):\n",
    "    print(f\"{i+1}:{part}\")"
   ]
  },
  {
   "cell_type": "code",
   "execution_count": 173,
   "id": "ae2d5a85",
   "metadata": {},
   "outputs": [
    {
     "name": "stdout",
     "output_type": "stream",
     "text": [
      "[array([[7]], dtype=int32), array([], shape=(0, 1), dtype=int32), array([], shape=(0, 1), dtype=int32)]\n"
     ]
    }
   ],
   "source": [
    "# **Q17.2:** Split an array at specific indices using `np.split()`\n",
    "s=np.random.randint(1,10,(1,1))\n",
    "str=np.split(s,[4,8])\n",
    "print(str)"
   ]
  },
  {
   "cell_type": "code",
   "execution_count": 174,
   "id": "d0efca80",
   "metadata": {},
   "outputs": [
    {
     "name": "stdout",
     "output_type": "stream",
     "text": [
      "1,[1 2]\n",
      "2,[3 5]\n",
      "3,[6 7]\n"
     ]
    }
   ],
   "source": [
    "# **Q17.3:** Split an array horizontally using `np.hsplit()`\n",
    "str=np.array([1,2,3,5,6,7])\n",
    "sp=np.hsplit(str,3)\n",
    "for i ,part in enumerate(sp):\n",
    "    print(f\"{i+1},{part}\")"
   ]
  },
  {
   "cell_type": "code",
   "execution_count": 175,
   "id": "ae6da6b5",
   "metadata": {},
   "outputs": [
    {
     "name": "stdout",
     "output_type": "stream",
     "text": [
      "1,[[1 2 3]]\n",
      "2,[[5 6 7]]\n"
     ]
    }
   ],
   "source": [
    "# **Q17.4:** Split an array vertically using `np.vsplit()`\n",
    "str=np.array([[1,2,3],[5,6,7]])\n",
    "split_ver=np.vsplit(str,2)\n",
    "for i ,part in enumerate(split_ver):\n",
    "    print(f\"{i+1},{part}\")\n"
   ]
  },
  {
   "cell_type": "code",
   "execution_count": 176,
   "id": "5d2b9191",
   "metadata": {},
   "outputs": [
    {
     "name": "stdout",
     "output_type": "stream",
     "text": [
      "1,[1 2 3]\n",
      "2,[4 5 6]\n",
      "3,[7 8]\n",
      "4,[ 9 20]\n"
     ]
    }
   ],
   "source": [
    "# **Q17.5:** Split an array into equal chunks using `np.array_split()`\n",
    "data=np.array([1,2,3,4,5,6,7,8,9,20])\n",
    "split_array=np.array_split(data,4)\n",
    "for i ,part in enumerate(split_array):\n",
    "    print(f\"{i+1},{part}\")"
   ]
  },
  {
   "cell_type": "code",
   "execution_count": 177,
   "id": "4a7be935",
   "metadata": {},
   "outputs": [
    {
     "data": {
      "text/plain": [
       "(array([1, 2, 3, 4, 5]), array([1, 1, 1, 2, 2, 2, 3, 3, 3, 4, 4, 4, 5, 5, 5]))"
      ]
     },
     "execution_count": 177,
     "metadata": {},
     "output_type": "execute_result"
    }
   ],
   "source": [
    "# **Q18.1:** Repeat each element of an array 3 times using `np.repeat()`\n",
    "data=np.array([1,2,3,4,5])\n",
    "repeat=np.repeat(data,3)\n",
    "data,repeat\n"
   ]
  },
  {
   "cell_type": "code",
   "execution_count": 179,
   "id": "c1cac0bd",
   "metadata": {},
   "outputs": [
    {
     "data": {
      "text/plain": [
       "(array([1, 2, 3, 4, 5]), array([1, 2, 3, 4, 5, 1, 2, 3, 4, 5]))"
      ]
     },
     "execution_count": 179,
     "metadata": {},
     "output_type": "execute_result"
    }
   ],
   "source": [
    "# **Q18.2:** Repeat an entire array 2 times using `np.tile()`\n",
    "repeat_two=np.tile(data,2)\n",
    "data,repeat_two\n"
   ]
  },
  {
   "cell_type": "code",
   "execution_count": 180,
   "id": "9d319e8d",
   "metadata": {},
   "outputs": [
    {
     "data": {
      "text/plain": [
       "(array([[9, 7],\n",
       "        [5, 5]], dtype=int32),\n",
       " array([[9, 7, 9, 7],\n",
       "        [5, 5, 5, 5],\n",
       "        [9, 7, 9, 7],\n",
       "        [5, 5, 5, 5]], dtype=int32))"
      ]
     },
     "execution_count": 180,
     "metadata": {},
     "output_type": "execute_result"
    }
   ],
   "source": [
    "# **Q18.3:** Repeat a 2D array using `np.tile()`\n",
    "array_2D=np.random.randint(1,10,(2,2))\n",
    "data=np.tile(array_2D,(2,2))\n",
    "array_2D,data"
   ]
  },
  {
   "cell_type": "code",
   "execution_count": 181,
   "id": "b90f661e",
   "metadata": {},
   "outputs": [
    {
     "data": {
      "text/plain": [
       "(array([1, 0]),\n",
       " array([[1, 0, 1, 0, 1, 0, 1, 0, 1, 0, 1, 0],\n",
       "        [1, 0, 1, 0, 1, 0, 1, 0, 1, 0, 1, 0],\n",
       "        [1, 0, 1, 0, 1, 0, 1, 0, 1, 0, 1, 0],\n",
       "        [1, 0, 1, 0, 1, 0, 1, 0, 1, 0, 1, 0],\n",
       "        [1, 0, 1, 0, 1, 0, 1, 0, 1, 0, 1, 0],\n",
       "        [1, 0, 1, 0, 1, 0, 1, 0, 1, 0, 1, 0]]))"
      ]
     },
     "execution_count": 181,
     "metadata": {},
     "output_type": "execute_result"
    }
   ],
   "source": [
    "# **Q18.4:** Create a pattern using `np.tile()`\n",
    "array=np.array([1,0])\n",
    "aptt=np.tile(array,(6,6))\n",
    "array,aptt\n"
   ]
  },
  {
   "cell_type": "code",
   "execution_count": 184,
   "id": "355b1be4",
   "metadata": {},
   "outputs": [
    {
     "data": {
      "text/plain": [
       "(array([1, 0]), [2, 3], array([1, 1, 0, 0, 0]))"
      ]
     },
     "execution_count": 184,
     "metadata": {},
     "output_type": "execute_result"
    }
   ],
   "source": [
    "# **Q18.5:** Repeat elements with different counts using `np.repeat()`\n",
    "b=[2,3]\n",
    "repeat=np.repeat(array,b)\n",
    "array,b,repeat"
   ]
  },
  {
   "cell_type": "code",
   "execution_count": 185,
   "id": "ed520fbb",
   "metadata": {},
   "outputs": [
    {
     "data": {
      "text/plain": [
       "True"
      ]
     },
     "execution_count": 185,
     "metadata": {},
     "output_type": "execute_result"
    }
   ],
   "source": [
    "# **Q19.1:** Compare two arrays for equality using `np.array_equal()`\n",
    "a=np.array([1,2,3,4,5])\n",
    "b=np.array([1,2,3,4,5])\n",
    "comp=np.array_equal(a,b)\n",
    "comp\n",
    "x=np.array([1,2,3,4,5])\n",
    "y=np.array([6,7,8,1,2])\n",
    "Z=np.array_equal(a,b)\n",
    "Z\n"
   ]
  },
  {
   "cell_type": "code",
   "execution_count": 186,
   "id": "f7fd52b2",
   "metadata": {},
   "outputs": [
    {
     "data": {
      "text/plain": [
       "(array([1, 2, 3, 4, 5, 6]), array([ 5,  6,  7,  8,  9, 10]), True)"
      ]
     },
     "execution_count": 186,
     "metadata": {},
     "output_type": "execute_result"
    }
   ],
   "source": [
    "\n",
    "# **Q19.2:** Check if arrays are close using `np.allclose()`\n",
    "a=np.array([1,2,3,4,5,6])\n",
    "b=np.array([5,6,7,8,9,10])\n",
    "close=np.allclose(a,b,atol=4) \n",
    "a,b,close"
   ]
  },
  {
   "cell_type": "code",
   "execution_count": 187,
   "id": "f5e4cc8b",
   "metadata": {},
   "outputs": [
    {
     "name": "stdout",
     "output_type": "stream",
     "text": [
      "[1 2 3 4 5 6]\n",
      "[ True  True  True  True  True False]\n"
     ]
    }
   ],
   "source": [
    "# **Q19.3:** Apply logical AND operation between arrays\n",
    "AND=np.logical_and(a>0 , a<6)\n",
    "print(a)\n",
    "print(AND)"
   ]
  },
  {
   "cell_type": "code",
   "execution_count": 189,
   "id": "071571c9",
   "metadata": {},
   "outputs": [
    {
     "name": "stdout",
     "output_type": "stream",
     "text": [
      "[ 5  6  7  8  9 10]\n",
      "[False  True False False False False]\n"
     ]
    }
   ],
   "source": [
    "# **Q19.4:** Apply logical OR operation between arrays\n",
    "OR=np.logical_or(b==2,b==6)\n",
    "print(b)\n",
    "print(OR)"
   ]
  },
  {
   "cell_type": "code",
   "execution_count": 190,
   "id": "2e503ce8",
   "metadata": {},
   "outputs": [
    {
     "name": "stdout",
     "output_type": "stream",
     "text": [
      "[[2 3]\n",
      " [6 5]\n",
      " [8 9]]\n",
      "[ True False False False False False]\n"
     ]
    }
   ],
   "source": [
    "# **Q19.5:** Apply logical NOT operation to an array\n",
    "NOT=np.logical_not(a!=1)\n",
    "print(c)\n",
    "print(NOT)"
   ]
  },
  {
   "cell_type": "code",
   "execution_count": 191,
   "id": "b2f077d4",
   "metadata": {},
   "outputs": [
    {
     "name": "stdout",
     "output_type": "stream",
     "text": [
      "[1 2 3 4 7]\n"
     ]
    }
   ],
   "source": [
    "# **Q20.1:** Find unique elements in an array using `np.unique()`\n",
    "b=np.array([1,1,2,2,3,3,4,4,4,4,4,7,7,7])\n",
    "a=np.unique(b)\n",
    "print(a)"
   ]
  },
  {
   "cell_type": "code",
   "execution_count": 192,
   "id": "555d9906",
   "metadata": {},
   "outputs": [
    {
     "name": "stdout",
     "output_type": "stream",
     "text": [
      "[1 2 3 5]\n"
     ]
    }
   ],
   "source": [
    "# **Q20.2:** Find the intersection of two arrays using `np.intersect1d()`\n",
    "a=np.array([1,2,3,4,5])\n",
    "b=np.array([1,3,2,5,7])    \n",
    "inter=np.intersect1d(a,b)\n",
    "print(inter)"
   ]
  },
  {
   "cell_type": "code",
   "execution_count": 195,
   "id": "25ca7e45",
   "metadata": {},
   "outputs": [
    {
     "data": {
      "text/plain": [
       "(array([1, 2, 3, 4, 5]), array([1, 3, 2, 5, 7]), array([1, 2, 3, 4, 5, 7]))"
      ]
     },
     "execution_count": 195,
     "metadata": {},
     "output_type": "execute_result"
    }
   ],
   "source": [
    "# **Q20.3:** Find the union of two arrays using `np.union1d()`\n",
    "union=np.union1d(a,b)\n",
    "a,b,union"
   ]
  },
  {
   "cell_type": "code",
   "execution_count": 196,
   "id": "8cbd42db",
   "metadata": {},
   "outputs": [
    {
     "data": {
      "text/plain": [
       "(array([1, 2, 3, 4, 5]), array([1, 3, 2, 5, 7]), array([4]))"
      ]
     },
     "execution_count": 196,
     "metadata": {},
     "output_type": "execute_result"
    }
   ],
   "source": [
    "# **Q20.4:** Find elements in first array but not in second using `np.setdiff1d()`\n",
    "ele=np.setdiff1d(a,b)\n",
    "a,b,ele"
   ]
  },
  {
   "cell_type": "code",
   "execution_count": 197,
   "id": "e9f5efe9",
   "metadata": {},
   "outputs": [
    {
     "data": {
      "text/plain": [
       "(array([1, 2, 3, 4, 5]), array([1, 3, 2, 5, 7]), array([4, 7]))"
      ]
     },
     "execution_count": 197,
     "metadata": {},
     "output_type": "execute_result"
    }
   ],
   "source": [
    "# **Q20.5:** Find the symmetric difference between two arrays using `np.setxor1d()`\n",
    "symmtric_diff=np.setxor1d(a,b)\n",
    "a,b,symmtric_diff"
   ]
  }
 ],
 "metadata": {
  "kernelspec": {
   "display_name": "Python 3",
   "language": "python",
   "name": "python3"
  },
  "language_info": {
   "codemirror_mode": {
    "name": "ipython",
    "version": 3
   },
   "file_extension": ".py",
   "mimetype": "text/x-python",
   "name": "python",
   "nbconvert_exporter": "python",
   "pygments_lexer": "ipython3",
   "version": "3.13.7"
  }
 },
 "nbformat": 4,
 "nbformat_minor": 5
}
